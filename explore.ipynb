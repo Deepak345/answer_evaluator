{
 "cells": [
  {
   "cell_type": "code",
   "execution_count": 9,
   "metadata": {},
   "outputs": [
    {
     "name": "stdout",
     "output_type": "stream",
     "text": [
      "1.3.1+cpu\n"
     ]
    }
   ],
   "source": [
    "import torch\n",
    "print(torch.__version__) "
   ]
  },
  {
   "cell_type": "code",
   "execution_count": 10,
   "metadata": {},
   "outputs": [],
   "source": [
    "text = \"ଶେଷରେ ବିଜୟ ହେଲା ସତ୍ୟର। ଦୀର୍ଘ ୭ ବର୍ଷ ପରେ ସ୍ୱାମୀ ତାଙ୍କ ହଜିଲା ସ୍ତ୍ରୀର ଠିକଣା ପାଇଲେ। ନିଜକୁ ନିର୍ଦ୍ଦେଷ ବୋଲି ସାବ୍ୟସ୍ତ କଲେ ସ୍ୱାମୀ।  ହେଲେ ଯେତେବେଳେ ସ୍ତ୍ରୀର ସନ୍ଧାନ ପାଇଲେ ସେତେବେଳେ ସେ ଆଉ କାହାର ହୋଇ ଯାଇଥିଲେ। ତଥାପି ଦୋଷ ନକରି ବି ତାଙ୍କୁ ୭ ବର୍ଷ କାଳ ଦୋଷୀର ବଦନାମ ମୁଣ୍ଡାଇ ବଞ୍ଚିବାକୁ ପଡିଲା।\""
   ]
  },
  {
   "cell_type": "code",
   "execution_count": 11,
   "metadata": {},
   "outputs": [],
   "source": [
    "from inltk.inltk import tokenize\n",
    "from inltk.inltk import get_embedding_vectors"
   ]
  },
  {
   "cell_type": "code",
   "execution_count": null,
   "metadata": {},
   "outputs": [],
   "source": [
    "tokenize(text , 'or')"
   ]
  },
  {
   "cell_type": "code",
   "execution_count": 40,
   "metadata": {},
   "outputs": [
    {
     "name": "stderr",
     "output_type": "stream",
     "text": [
      "/home/deepak/Documents/answer_evaluator/venv/lib/python3.6/site-packages/torch/serialization.py:493: SourceChangeWarning: source code of class 'torch.nn.modules.loss.CrossEntropyLoss' has changed. you can retrieve the original source code by accessing the object's source attribute or set `torch.nn.Module.dump_patches = True` and use the patch tool to revert the changes.\n",
      "  warnings.warn(msg, SourceChangeWarning)\n",
      "/home/deepak/Documents/answer_evaluator/venv/lib/python3.6/site-packages/torch/serialization.py:493: SourceChangeWarning: source code of class 'fastai.text.models.awd_lstm.AWD_LSTM' has changed. you can retrieve the original source code by accessing the object's source attribute or set `torch.nn.Module.dump_patches = True` and use the patch tool to revert the changes.\n",
      "  warnings.warn(msg, SourceChangeWarning)\n",
      "/home/deepak/Documents/answer_evaluator/venv/lib/python3.6/site-packages/torch/serialization.py:493: SourceChangeWarning: source code of class 'torch.nn.modules.sparse.Embedding' has changed. you can retrieve the original source code by accessing the object's source attribute or set `torch.nn.Module.dump_patches = True` and use the patch tool to revert the changes.\n",
      "  warnings.warn(msg, SourceChangeWarning)\n",
      "/home/deepak/Documents/answer_evaluator/venv/lib/python3.6/site-packages/torch/serialization.py:493: SourceChangeWarning: source code of class 'fastai.text.models.awd_lstm.EmbeddingDropout' has changed. you can retrieve the original source code by accessing the object's source attribute or set `torch.nn.Module.dump_patches = True` and use the patch tool to revert the changes.\n",
      "  warnings.warn(msg, SourceChangeWarning)\n",
      "/home/deepak/Documents/answer_evaluator/venv/lib/python3.6/site-packages/torch/serialization.py:493: SourceChangeWarning: source code of class 'torch.nn.modules.container.ModuleList' has changed. you can retrieve the original source code by accessing the object's source attribute or set `torch.nn.Module.dump_patches = True` and use the patch tool to revert the changes.\n",
      "  warnings.warn(msg, SourceChangeWarning)\n",
      "/home/deepak/Documents/answer_evaluator/venv/lib/python3.6/site-packages/torch/serialization.py:493: SourceChangeWarning: source code of class 'fastai.text.models.awd_lstm.WeightDropout' has changed. you can retrieve the original source code by accessing the object's source attribute or set `torch.nn.Module.dump_patches = True` and use the patch tool to revert the changes.\n",
      "  warnings.warn(msg, SourceChangeWarning)\n",
      "/home/deepak/Documents/answer_evaluator/venv/lib/python3.6/site-packages/torch/serialization.py:493: SourceChangeWarning: source code of class 'torch.nn.modules.rnn.LSTM' has changed. you can retrieve the original source code by accessing the object's source attribute or set `torch.nn.Module.dump_patches = True` and use the patch tool to revert the changes.\n",
      "  warnings.warn(msg, SourceChangeWarning)\n",
      "/home/deepak/Documents/answer_evaluator/venv/lib/python3.6/site-packages/torch/serialization.py:493: SourceChangeWarning: source code of class 'fastai.text.models.awd_lstm.RNNDropout' has changed. you can retrieve the original source code by accessing the object's source attribute or set `torch.nn.Module.dump_patches = True` and use the patch tool to revert the changes.\n",
      "  warnings.warn(msg, SourceChangeWarning)\n",
      "/home/deepak/Documents/answer_evaluator/venv/lib/python3.6/site-packages/torch/serialization.py:493: SourceChangeWarning: source code of class 'fastai.text.models.awd_lstm.LinearDecoder' has changed. you can retrieve the original source code by accessing the object's source attribute or set `torch.nn.Module.dump_patches = True` and use the patch tool to revert the changes.\n",
      "  warnings.warn(msg, SourceChangeWarning)\n",
      "/home/deepak/Documents/answer_evaluator/venv/lib/python3.6/site-packages/torch/serialization.py:493: SourceChangeWarning: source code of class 'torch.nn.modules.linear.Linear' has changed. you can retrieve the original source code by accessing the object's source attribute or set `torch.nn.Module.dump_patches = True` and use the patch tool to revert the changes.\n",
      "  warnings.warn(msg, SourceChangeWarning)\n"
     ]
    },
    {
     "data": {
      "text/html": [],
      "text/plain": [
       "<IPython.core.display.HTML object>"
      ]
     },
     "metadata": {},
     "output_type": "display_data"
    },
    {
     "data": {
      "text/html": [],
      "text/plain": [
       "<IPython.core.display.HTML object>"
      ]
     },
     "metadata": {},
     "output_type": "display_data"
    }
   ],
   "source": [
    "vectors = get_embedding_vectors(text, 'or')"
   ]
  },
  {
   "cell_type": "code",
   "execution_count": 43,
   "metadata": {},
   "outputs": [
    {
     "data": {
      "text/plain": [
       "63"
      ]
     },
     "execution_count": 43,
     "metadata": {},
     "output_type": "execute_result"
    }
   ],
   "source": [
    "l = len(vectors)\n",
    "l"
   ]
  },
  {
   "cell_type": "code",
   "execution_count": null,
   "metadata": {},
   "outputs": [],
   "source": [
    "get_embedding_vectors(text, 'or')"
   ]
  },
  {
   "cell_type": "code",
   "execution_count": 44,
   "metadata": {},
   "outputs": [
    {
     "data": {
      "text/plain": [
       "63"
      ]
     },
     "execution_count": 44,
     "metadata": {},
     "output_type": "execute_result"
    }
   ],
   "source": [
    "len(vectors)"
   ]
  },
  {
   "cell_type": "code",
   "execution_count": null,
   "metadata": {},
   "outputs": [],
   "source": [
    "len(tokenize(text, 'or'))"
   ]
  },
  {
   "cell_type": "code",
   "execution_count": 5,
   "metadata": {},
   "outputs": [],
   "source": [
    "import numpy as np"
   ]
  },
  {
   "cell_type": "code",
   "execution_count": 45,
   "metadata": {},
   "outputs": [
    {
     "data": {
      "text/plain": [
       "[array([-0.592143,  0.036464,  1.064776, -0.029495, ..., -0.760284, -0.099626,  0.371477,  0.43619 ], dtype=float32),\n",
       " array([ 0.071335,  0.478509,  0.514669,  0.431564, ...,  0.595439, -0.056706,  0.206724,  0.048993], dtype=float32),\n",
       " array([ 0.288555,  0.512494,  0.99378 , -0.405916, ...,  0.455619,  0.404982, -0.844652, -0.014613], dtype=float32),\n",
       " array([-0.33625 , -0.340926, -0.008408,  0.250804, ...,  0.560029,  0.750533,  0.596823,  0.711635], dtype=float32),\n",
       " array([ 2.485659e-01, -1.070712e+00,  2.831249e-01,  2.747490e-02, ...,  7.670560e-01,  6.109239e-01, -7.677363e-02,\n",
       "        -8.528004e-04], dtype=float32),\n",
       " array([ 0.890594,  0.80546 ,  0.060229,  0.146133, ...,  0.135298, -0.083667, -0.511793,  0.464783], dtype=float32),\n",
       " array([ 0.097847, -0.029737, -0.114579,  0.366081, ..., -0.103041,  0.500068,  0.623969, -0.439608], dtype=float32),\n",
       " array([-0.256353,  0.111601,  0.419539,  0.263737, ...,  0.855219, -0.19227 ,  0.437447,  0.35305 ], dtype=float32),\n",
       " array([ 0.183539, -0.065723,  1.055757,  0.072875, ...,  0.77933 , -0.79146 , -0.242413, -0.320365], dtype=float32),\n",
       " array([ 0.56912 , -0.754653, -1.02589 ,  0.334483, ..., -1.286898,  0.463298,  0.162712, -0.056913], dtype=float32),\n",
       " array([-0.621815, -0.009879,  0.176698,  0.149887, ...,  0.824301,  0.2266  , -0.623364,  0.178185], dtype=float32),\n",
       " array([ 0.848478, -0.594092, -0.119535,  0.305652, ...,  0.346458, -0.466307,  0.346683,  0.570487], dtype=float32),\n",
       " array([-0.314066,  0.051292,  0.441623,  0.001485, ...,  0.155857, -0.154923,  0.935429, -0.002172], dtype=float32),\n",
       " array([-0.493512,  0.406439,  0.541229, -0.352937, ..., -0.415147,  0.805014, -0.122467, -0.371578], dtype=float32),\n",
       " array([-0.821017,  0.143341,  0.474806, -0.801491, ...,  0.610576,  0.838248, -0.860297, -0.207906], dtype=float32),\n",
       " array([ 2.485659e-01, -1.070712e+00,  2.831249e-01,  2.747490e-02, ...,  7.670560e-01,  6.109239e-01, -7.677363e-02,\n",
       "        -8.528004e-04], dtype=float32),\n",
       " array([-0.298902,  0.267243,  0.597467, -0.119588, ..., -0.316618,  0.048589,  0.595482, -0.593137], dtype=float32),\n",
       " array([ 0.118019,  0.293007,  0.447714, -0.923913, ...,  0.014774,  0.06354 , -0.252082, -0.485005], dtype=float32),\n",
       " array([ 0.890594,  0.80546 ,  0.060229,  0.146133, ...,  0.135298, -0.083667, -0.511793,  0.464783], dtype=float32),\n",
       " array([-0.071099, -0.286844, -0.369593,  0.153934, ...,  0.70581 , -0.114212, -0.413394, -0.022378], dtype=float32),\n",
       " array([ 0.551423, -0.806831,  0.336608,  0.054315, ...,  0.590744, -0.592565,  0.135596,  0.672341], dtype=float32),\n",
       " array([ 0.166193, -0.157738, -0.391259,  0.273461, ..., -0.06927 ,  0.46002 ,  0.642103, -0.580016], dtype=float32),\n",
       " array([-0.114146, -0.04377 , -0.498984,  0.143996, ..., -0.428408,  0.826073,  0.26608 , -0.247821], dtype=float32),\n",
       " array([-0.647202,  0.001088,  0.266012, -0.025338, ..., -0.295673, -0.347422, -0.268647,  0.308464], dtype=float32),\n",
       " array([-0.502557,  1.554346,  0.205102,  0.208246, ...,  0.564055, -0.687521,  0.30105 , -0.07151 ], dtype=float32),\n",
       " array([ 0.013541, -0.481982,  0.13694 ,  0.134991, ...,  0.511064,  0.021648,  0.327473, -0.530896], dtype=float32),\n",
       " array([-0.48513 ,  0.471762, -0.111165,  0.427892, ..., -0.234352, -0.100789, -0.319675, -0.482263], dtype=float32),\n",
       " array([-0.533949, -0.288948,  0.269469, -0.455854, ...,  0.008779, -0.884893, -0.508201, -0.474633], dtype=float32),\n",
       " array([-0.621815, -0.009879,  0.176698,  0.149887, ...,  0.824301,  0.2266  , -0.623364,  0.178185], dtype=float32),\n",
       " array([ 0.890594,  0.80546 ,  0.060229,  0.146133, ...,  0.135298, -0.083667, -0.511793,  0.464783], dtype=float32),\n",
       " array([-0.095726, -0.222199,  0.99303 , -0.390085, ..., -0.540176,  0.228137, -0.244008, -0.220899], dtype=float32),\n",
       " array([-0.802859, -0.481205,  0.244772,  0.016053, ..., -0.022899, -0.633788, -0.232471,  0.092298], dtype=float32),\n",
       " array([-0.821017,  0.143341,  0.474806, -0.801491, ...,  0.610576,  0.838248, -0.860297, -0.207906], dtype=float32),\n",
       " array([ 2.485659e-01, -1.070712e+00,  2.831249e-01,  2.747490e-02, ...,  7.670560e-01,  6.109239e-01, -7.677363e-02,\n",
       "        -8.528004e-04], dtype=float32),\n",
       " array([-0.124386,  0.034374,  0.019634, -0.434705, ..., -0.467699, -0.317095,  0.665512,  0.802908], dtype=float32),\n",
       " array([ 0.118019,  0.293007,  0.447714, -0.923913, ...,  0.014774,  0.06354 , -0.252082, -0.485005], dtype=float32),\n",
       " array([ 0.134226,  0.609534,  0.522356,  0.313428, ..., -0.361062, -0.235636,  0.969125,  0.515621], dtype=float32),\n",
       " array([ 0.335184, -0.051253, -0.026241, -0.02017 , ..., -0.789336,  0.058756,  0.18692 ,  0.272281], dtype=float32),\n",
       " array([ 0.260789,  0.791317,  0.289889, -0.425994, ...,  0.534417,  0.234832,  0.794469,  0.23225 ], dtype=float32),\n",
       " array([ 0.209827,  0.215552,  0.482874,  0.008431, ..., -0.572272,  0.000599, -0.082424,  0.52176 ], dtype=float32),\n",
       " array([ 0.301187, -0.366078,  0.196437,  0.218182, ...,  0.230534,  0.513922,  0.0176  ,  0.356779], dtype=float32),\n",
       " array([ 0.56736 , -0.010224, -0.341775,  0.717417, ...,  0.26685 ,  0.547413,  0.857623,  0.080656], dtype=float32),\n",
       " array([ 0.890594,  0.80546 ,  0.060229,  0.146133, ...,  0.135298, -0.083667, -0.511793,  0.464783], dtype=float32),\n",
       " array([-0.152313,  0.480016, -0.67524 ,  0.572989, ..., -0.845412,  0.50871 ,  1.007969, -0.370184], dtype=float32),\n",
       " array([ 0.161693,  0.027909,  1.079379, -0.37404 , ..., -0.033136,  0.215755,  0.406304, -0.060017], dtype=float32),\n",
       " array([-0.456666, -0.000904,  0.449995, -0.146597, ..., -0.603332, -0.236674, -0.057661,  0.008383], dtype=float32),\n",
       " array([-0.55605 ,  0.733094, -0.234198,  0.030214, ...,  0.19026 , -0.540472, -0.3234  ,  0.506021], dtype=float32),\n",
       " array([ 1.248111, -0.436628, -0.478358,  0.323835, ..., -0.697744, -1.174379,  0.426978,  0.589136], dtype=float32),\n",
       " array([-0.256353,  0.111601,  0.419539,  0.263737, ...,  0.855219, -0.19227 ,  0.437447,  0.35305 ], dtype=float32),\n",
       " array([ 0.183539, -0.065723,  1.055757,  0.072875, ...,  0.77933 , -0.79146 , -0.242413, -0.320365], dtype=float32),\n",
       " array([-0.30625 ,  0.46177 , -0.448054,  0.254247, ...,  0.706905, -0.203507, -0.276425,  0.151948], dtype=float32),\n",
       " array([ 0.131839,  0.197073, -0.216362,  0.271571, ...,  0.26806 ,  0.410467,  0.180291, -0.253679], dtype=float32),\n",
       " array([ 2.485659e-01, -1.070712e+00,  2.831249e-01,  2.747490e-02, ...,  7.670560e-01,  6.109239e-01, -7.677363e-02,\n",
       "        -8.528004e-04], dtype=float32),\n",
       " array([-0.770581,  0.187053, -0.221099,  0.071302, ..., -0.496939, -0.069128,  0.108977,  0.347822], dtype=float32),\n",
       " array([-0.471353,  0.459889, -0.568305,  0.198631, ..., -0.094938, -0.156855, -0.235124, -0.303738], dtype=float32),\n",
       " array([-1.260255,  0.1234  ,  0.131095, -0.080626, ...,  1.350248, -0.018424, -0.100564,  1.237427], dtype=float32),\n",
       " array([-0.552697,  0.893143,  0.045787, -0.332126, ...,  0.013116, -0.02534 ,  0.058678, -0.661237], dtype=float32),\n",
       " array([-0.286587,  0.425678,  0.52394 ,  0.544877, ..., -0.890999, -0.202963, -0.65369 ,  0.24227 ], dtype=float32),\n",
       " array([ 0.440369,  1.169572, -0.366634,  0.186434, ...,  0.375482,  0.812667,  0.170762,  0.0692  ], dtype=float32),\n",
       " array([ 0.551423, -0.806831,  0.336608,  0.054315, ...,  0.590744, -0.592565,  0.135596,  0.672341], dtype=float32),\n",
       " array([-0.210347,  0.313058,  0.462045,  0.66087 , ..., -0.590786,  0.579258, -0.536817, -0.012552], dtype=float32),\n",
       " array([ 0.230717,  0.197861, -0.260078, -0.265133, ..., -0.622642,  0.098941, -0.346819, -0.342401], dtype=float32),\n",
       " array([ 0.890594,  0.80546 ,  0.060229,  0.146133, ...,  0.135298, -0.083667, -0.511793,  0.464783], dtype=float32)]"
      ]
     },
     "execution_count": 45,
     "metadata": {},
     "output_type": "execute_result"
    }
   ],
   "source": [
    "vectors"
   ]
  },
  {
   "cell_type": "code",
   "execution_count": 46,
   "metadata": {},
   "outputs": [],
   "source": [
    "vectors = np.asarray(vectors, np.float32)"
   ]
  },
  {
   "cell_type": "code",
   "execution_count": 47,
   "metadata": {},
   "outputs": [],
   "source": [
    "vectors = vectors.flatten()"
   ]
  },
  {
   "cell_type": "code",
   "execution_count": 48,
   "metadata": {},
   "outputs": [
    {
     "data": {
      "text/plain": [
       "25200"
      ]
     },
     "execution_count": 48,
     "metadata": {},
     "output_type": "execute_result"
    }
   ],
   "source": [
    "len(vectors)"
   ]
  },
  {
   "cell_type": "code",
   "execution_count": 49,
   "metadata": {},
   "outputs": [
    {
     "data": {
      "text/plain": [
       "array([-0.592143,  0.036464,  1.064776, -0.029495, ...,  0.135298, -0.083667, -0.511793,  0.464783], dtype=float32)"
      ]
     },
     "execution_count": 49,
     "metadata": {},
     "output_type": "execute_result"
    }
   ],
   "source": [
    "vectors"
   ]
  },
  {
   "cell_type": "code",
   "execution_count": 53,
   "metadata": {},
   "outputs": [],
   "source": [
    "vectors = vectors.tolist()"
   ]
  },
  {
   "cell_type": "code",
   "execution_count": 54,
   "metadata": {},
   "outputs": [
    {
     "data": {
      "text/plain": [
       "25200"
      ]
     },
     "execution_count": 54,
     "metadata": {},
     "output_type": "execute_result"
    }
   ],
   "source": [
    "len(vectors)"
   ]
  },
  {
   "cell_type": "code",
   "execution_count": 55,
   "metadata": {},
   "outputs": [],
   "source": [
    "vectors.extend([0] * ((211-l)*400))"
   ]
  },
  {
   "cell_type": "code",
   "execution_count": 56,
   "metadata": {},
   "outputs": [
    {
     "data": {
      "text/plain": [
       "84400"
      ]
     },
     "execution_count": 56,
     "metadata": {},
     "output_type": "execute_result"
    }
   ],
   "source": [
    "len(vectors)"
   ]
  },
  {
   "cell_type": "code",
   "execution_count": null,
   "metadata": {},
   "outputs": [],
   "source": []
  },
  {
   "cell_type": "code",
   "execution_count": null,
   "metadata": {},
   "outputs": [],
   "source": [
    "vector = []\n",
    "for _ in vectors:\n",
    "    vector.append(list(_))\n",
    "vector"
   ]
  },
  {
   "cell_type": "code",
   "execution_count": 24,
   "metadata": {},
   "outputs": [
    {
     "data": {
      "text/plain": [
       "63"
      ]
     },
     "execution_count": 24,
     "metadata": {},
     "output_type": "execute_result"
    }
   ],
   "source": [
    "len(vector)"
   ]
  },
  {
   "cell_type": "code",
   "execution_count": 26,
   "metadata": {},
   "outputs": [
    {
     "data": {
      "text/plain": [
       "400"
      ]
     },
     "execution_count": 26,
     "metadata": {},
     "output_type": "execute_result"
    }
   ],
   "source": [
    "len(vector[0])"
   ]
  },
  {
   "cell_type": "code",
   "execution_count": null,
   "metadata": {},
   "outputs": [],
   "source": []
  },
  {
   "cell_type": "code",
   "execution_count": null,
   "metadata": {},
   "outputs": [],
   "source": [
    "data1 = [[1,2,3],[4,5,6]]\n",
    "# data_np = np.asarray(data, np.float32)"
   ]
  },
  {
   "cell_type": "code",
   "execution_count": null,
   "metadata": {},
   "outputs": [],
   "source": [
    "data1"
   ]
  },
  {
   "cell_type": "code",
   "execution_count": null,
   "metadata": {},
   "outputs": [],
   "source": [
    "data_np = np.asarray(data1, np.float32)"
   ]
  },
  {
   "cell_type": "code",
   "execution_count": null,
   "metadata": {},
   "outputs": [],
   "source": [
    "data_np"
   ]
  },
  {
   "cell_type": "code",
   "execution_count": null,
   "metadata": {},
   "outputs": [],
   "source": [
    "import tensorflow as tf"
   ]
  },
  {
   "cell_type": "code",
   "execution_count": null,
   "metadata": {},
   "outputs": [],
   "source": [
    "data_tf = tf.convert_to_tensor(data_np, np.float32)"
   ]
  },
  {
   "cell_type": "code",
   "execution_count": null,
   "metadata": {},
   "outputs": [],
   "source": [
    "tf.print(data_tf)"
   ]
  },
  {
   "cell_type": "code",
   "execution_count": 8,
   "metadata": {},
   "outputs": [
    {
     "data": {
      "text/plain": [
       "array([[-0.592143,  0.036464,  1.064776, -0.029495, ..., -0.760284, -0.099626,  0.371477,  0.43619 ],\n",
       "       [ 0.071335,  0.478509,  0.514669,  0.431564, ...,  0.595439, -0.056706,  0.206724,  0.048993],\n",
       "       [ 0.288555,  0.512494,  0.99378 , -0.405916, ...,  0.455619,  0.404982, -0.844652, -0.014613],\n",
       "       [-0.33625 , -0.340926, -0.008408,  0.250804, ...,  0.560029,  0.750533,  0.596823,  0.711635],\n",
       "       ...,\n",
       "       [ 0.551423, -0.806831,  0.336608,  0.054315, ...,  0.590744, -0.592565,  0.135596,  0.672341],\n",
       "       [-0.210347,  0.313058,  0.462045,  0.66087 , ..., -0.590786,  0.579258, -0.536817, -0.012552],\n",
       "       [ 0.230717,  0.197861, -0.260078, -0.265133, ..., -0.622642,  0.098941, -0.346819, -0.342401],\n",
       "       [ 0.890594,  0.80546 ,  0.060229,  0.146133, ...,  0.135298, -0.083667, -0.511793,  0.464783]], dtype=float32)"
      ]
     },
     "execution_count": 8,
     "metadata": {},
     "output_type": "execute_result"
    }
   ],
   "source": [
    "vectors =  np.asarray(vectors, np.float32)\n",
    "vectors"
   ]
  },
  {
   "cell_type": "code",
   "execution_count": null,
   "metadata": {},
   "outputs": [],
   "source": []
  }
 ],
 "metadata": {
  "kernelspec": {
   "display_name": "Python 3",
   "language": "python",
   "name": "python3"
  },
  "language_info": {
   "codemirror_mode": {
    "name": "ipython",
    "version": 3
   },
   "file_extension": ".py",
   "mimetype": "text/x-python",
   "name": "python",
   "nbconvert_exporter": "python",
   "pygments_lexer": "ipython3",
   "version": "3.6.9"
  }
 },
 "nbformat": 4,
 "nbformat_minor": 4
}
