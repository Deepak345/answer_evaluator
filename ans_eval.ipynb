{
 "cells": [
  {
   "cell_type": "markdown",
   "metadata": {},
   "source": [
    "## Importing necessary libraries"
   ]
  },
  {
   "cell_type": "code",
   "execution_count": 1,
   "metadata": {},
   "outputs": [],
   "source": [
    "# importing inltk and its dependencies\n",
    "import torch\n",
    "from inltk.inltk import tokenize\n",
    "from inltk.inltk import get_embedding_vectors\n",
    "\n",
    "# importing for data exploration and analysis\n",
    "import pandas as pd\n",
    "import numpy as np\n",
    "import matplotlib.pyplot as plt\n",
    "%matplotlib inline\n",
    "\n",
    "# classical model - random forest\n",
    "from sklearn.ensemble import RandomForestClassifier\n",
    "\n",
    "# deep learning model - cnn, lstm\n",
    "import tensorflow as tf\n",
    "from tensorflow import keras\n",
    "from tensorflow.keras.layers import Dense, Dropout, Activation, Flatten, Conv1D, MaxPooling1D,LSTM\n",
    "\n",
    "# importing for training and test split\n",
    "from sklearn.model_selection import train_test_split\n",
    "\n",
    "# Tensorboard for visualisation\n",
    "from tensorflow.keras.callbacks import TensorBoard\n",
    "from time import time"
   ]
  },
  {
   "cell_type": "markdown",
   "metadata": {},
   "source": [
    "## Reading Data"
   ]
  },
  {
   "cell_type": "code",
   "execution_count": 2,
   "metadata": {},
   "outputs": [],
   "source": [
    "data = pd.read_csv(\"q1.csv\")"
   ]
  },
  {
   "cell_type": "markdown",
   "metadata": {},
   "source": [
    "## Preprocessing Data"
   ]
  },
  {
   "cell_type": "code",
   "execution_count": 3,
   "metadata": {},
   "outputs": [
    {
     "name": "stdout",
     "output_type": "stream",
     "text": [
      "CPU times: user 6.79 ms, sys: 0 ns, total: 6.79 ms\n",
      "Wall time: 6.68 ms\n"
     ]
    }
   ],
   "source": [
    "%%time\n",
    "\n",
    "# converting marks into int to prevent errors during training (as classification task requires int classes)\n",
    "data = data.astype({'marks' : int})\n",
    "\n",
    "# removing the nan ans from the dataframe\n",
    "data = data[data['ans'].notna()]\n",
    "\n",
    "# after droping the index gets reorganised, resetting it here\n",
    "data.reset_index(drop= True, inplace= True)"
   ]
  },
  {
   "cell_type": "code",
   "execution_count": 4,
   "metadata": {},
   "outputs": [
    {
     "name": "stdout",
     "output_type": "stream",
     "text": [
      "CPU times: user 6.56 s, sys: 65 ms, total: 6.62 s\n",
      "Wall time: 6.62 s\n"
     ]
    }
   ],
   "source": [
    "%%time\n",
    "\n",
    "# Feature extraction - No. of words\n",
    "# creating a new series\n",
    "no_of_words = pd.Series([], dtype = int) \n",
    "\n",
    "for row_index,row in data.iterrows():\n",
    "    no = len(tokenize(row['ans'], 'or'))\n",
    "    no_of_words[row_index] = no\n",
    "    \n",
    "# adding the created series into the dataframe at position 2\n",
    "data.insert(2, \"no_of_words\", no_of_words)\n",
    "\n",
    "pad_length = 124  # median no of words"
   ]
  },
  {
   "cell_type": "code",
   "execution_count": 5,
   "metadata": {
    "scrolled": true
   },
   "outputs": [
    {
     "name": "stderr",
     "output_type": "stream",
     "text": [
      "/home/deepak/Documents/answer_evaluator/venv/lib/python3.6/site-packages/torch/serialization.py:493: SourceChangeWarning: source code of class 'torch.nn.modules.loss.CrossEntropyLoss' has changed. you can retrieve the original source code by accessing the object's source attribute or set `torch.nn.Module.dump_patches = True` and use the patch tool to revert the changes.\n",
      "  warnings.warn(msg, SourceChangeWarning)\n",
      "/home/deepak/Documents/answer_evaluator/venv/lib/python3.6/site-packages/torch/serialization.py:493: SourceChangeWarning: source code of class 'fastai.text.models.awd_lstm.AWD_LSTM' has changed. you can retrieve the original source code by accessing the object's source attribute or set `torch.nn.Module.dump_patches = True` and use the patch tool to revert the changes.\n",
      "  warnings.warn(msg, SourceChangeWarning)\n",
      "/home/deepak/Documents/answer_evaluator/venv/lib/python3.6/site-packages/torch/serialization.py:493: SourceChangeWarning: source code of class 'torch.nn.modules.sparse.Embedding' has changed. you can retrieve the original source code by accessing the object's source attribute or set `torch.nn.Module.dump_patches = True` and use the patch tool to revert the changes.\n",
      "  warnings.warn(msg, SourceChangeWarning)\n",
      "/home/deepak/Documents/answer_evaluator/venv/lib/python3.6/site-packages/torch/serialization.py:493: SourceChangeWarning: source code of class 'fastai.text.models.awd_lstm.EmbeddingDropout' has changed. you can retrieve the original source code by accessing the object's source attribute or set `torch.nn.Module.dump_patches = True` and use the patch tool to revert the changes.\n",
      "  warnings.warn(msg, SourceChangeWarning)\n",
      "/home/deepak/Documents/answer_evaluator/venv/lib/python3.6/site-packages/torch/serialization.py:493: SourceChangeWarning: source code of class 'torch.nn.modules.container.ModuleList' has changed. you can retrieve the original source code by accessing the object's source attribute or set `torch.nn.Module.dump_patches = True` and use the patch tool to revert the changes.\n",
      "  warnings.warn(msg, SourceChangeWarning)\n",
      "/home/deepak/Documents/answer_evaluator/venv/lib/python3.6/site-packages/torch/serialization.py:493: SourceChangeWarning: source code of class 'fastai.text.models.awd_lstm.WeightDropout' has changed. you can retrieve the original source code by accessing the object's source attribute or set `torch.nn.Module.dump_patches = True` and use the patch tool to revert the changes.\n",
      "  warnings.warn(msg, SourceChangeWarning)\n",
      "/home/deepak/Documents/answer_evaluator/venv/lib/python3.6/site-packages/torch/serialization.py:493: SourceChangeWarning: source code of class 'torch.nn.modules.rnn.LSTM' has changed. you can retrieve the original source code by accessing the object's source attribute or set `torch.nn.Module.dump_patches = True` and use the patch tool to revert the changes.\n",
      "  warnings.warn(msg, SourceChangeWarning)\n",
      "/home/deepak/Documents/answer_evaluator/venv/lib/python3.6/site-packages/torch/serialization.py:493: SourceChangeWarning: source code of class 'fastai.text.models.awd_lstm.RNNDropout' has changed. you can retrieve the original source code by accessing the object's source attribute or set `torch.nn.Module.dump_patches = True` and use the patch tool to revert the changes.\n",
      "  warnings.warn(msg, SourceChangeWarning)\n",
      "/home/deepak/Documents/answer_evaluator/venv/lib/python3.6/site-packages/torch/serialization.py:493: SourceChangeWarning: source code of class 'fastai.text.models.awd_lstm.LinearDecoder' has changed. you can retrieve the original source code by accessing the object's source attribute or set `torch.nn.Module.dump_patches = True` and use the patch tool to revert the changes.\n",
      "  warnings.warn(msg, SourceChangeWarning)\n",
      "/home/deepak/Documents/answer_evaluator/venv/lib/python3.6/site-packages/torch/serialization.py:493: SourceChangeWarning: source code of class 'torch.nn.modules.linear.Linear' has changed. you can retrieve the original source code by accessing the object's source attribute or set `torch.nn.Module.dump_patches = True` and use the patch tool to revert the changes.\n",
      "  warnings.warn(msg, SourceChangeWarning)\n"
     ]
    },
    {
     "data": {
      "text/html": [],
      "text/plain": [
       "<IPython.core.display.HTML object>"
      ]
     },
     "metadata": {},
     "output_type": "display_data"
    },
    {
     "data": {
      "text/html": [],
      "text/plain": [
       "<IPython.core.display.HTML object>"
      ]
     },
     "metadata": {},
     "output_type": "display_data"
    },
    {
     "data": {
      "text/html": [],
      "text/plain": [
       "<IPython.core.display.HTML object>"
      ]
     },
     "metadata": {},
     "output_type": "display_data"
    },
    {
     "data": {
      "text/html": [],
      "text/plain": [
       "<IPython.core.display.HTML object>"
      ]
     },
     "metadata": {},
     "output_type": "display_data"
    },
    {
     "data": {
      "text/html": [],
      "text/plain": [
       "<IPython.core.display.HTML object>"
      ]
     },
     "metadata": {},
     "output_type": "display_data"
    },
    {
     "data": {
      "text/html": [],
      "text/plain": [
       "<IPython.core.display.HTML object>"
      ]
     },
     "metadata": {},
     "output_type": "display_data"
    },
    {
     "data": {
      "text/html": [],
      "text/plain": [
       "<IPython.core.display.HTML object>"
      ]
     },
     "metadata": {},
     "output_type": "display_data"
    },
    {
     "data": {
      "text/html": [],
      "text/plain": [
       "<IPython.core.display.HTML object>"
      ]
     },
     "metadata": {},
     "output_type": "display_data"
    },
    {
     "data": {
      "text/html": [],
      "text/plain": [
       "<IPython.core.display.HTML object>"
      ]
     },
     "metadata": {},
     "output_type": "display_data"
    },
    {
     "data": {
      "text/html": [],
      "text/plain": [
       "<IPython.core.display.HTML object>"
      ]
     },
     "metadata": {},
     "output_type": "display_data"
    },
    {
     "data": {
      "text/html": [],
      "text/plain": [
       "<IPython.core.display.HTML object>"
      ]
     },
     "metadata": {},
     "output_type": "display_data"
    },
    {
     "data": {
      "text/html": [],
      "text/plain": [
       "<IPython.core.display.HTML object>"
      ]
     },
     "metadata": {},
     "output_type": "display_data"
    },
    {
     "data": {
      "text/html": [],
      "text/plain": [
       "<IPython.core.display.HTML object>"
      ]
     },
     "metadata": {},
     "output_type": "display_data"
    },
    {
     "data": {
      "text/html": [],
      "text/plain": [
       "<IPython.core.display.HTML object>"
      ]
     },
     "metadata": {},
     "output_type": "display_data"
    },
    {
     "data": {
      "text/html": [],
      "text/plain": [
       "<IPython.core.display.HTML object>"
      ]
     },
     "metadata": {},
     "output_type": "display_data"
    },
    {
     "data": {
      "text/html": [],
      "text/plain": [
       "<IPython.core.display.HTML object>"
      ]
     },
     "metadata": {},
     "output_type": "display_data"
    },
    {
     "data": {
      "text/html": [],
      "text/plain": [
       "<IPython.core.display.HTML object>"
      ]
     },
     "metadata": {},
     "output_type": "display_data"
    },
    {
     "data": {
      "text/html": [],
      "text/plain": [
       "<IPython.core.display.HTML object>"
      ]
     },
     "metadata": {},
     "output_type": "display_data"
    },
    {
     "data": {
      "text/html": [],
      "text/plain": [
       "<IPython.core.display.HTML object>"
      ]
     },
     "metadata": {},
     "output_type": "display_data"
    },
    {
     "data": {
      "text/html": [],
      "text/plain": [
       "<IPython.core.display.HTML object>"
      ]
     },
     "metadata": {},
     "output_type": "display_data"
    },
    {
     "data": {
      "text/html": [],
      "text/plain": [
       "<IPython.core.display.HTML object>"
      ]
     },
     "metadata": {},
     "output_type": "display_data"
    },
    {
     "data": {
      "text/html": [],
      "text/plain": [
       "<IPython.core.display.HTML object>"
      ]
     },
     "metadata": {},
     "output_type": "display_data"
    },
    {
     "data": {
      "text/html": [],
      "text/plain": [
       "<IPython.core.display.HTML object>"
      ]
     },
     "metadata": {},
     "output_type": "display_data"
    },
    {
     "data": {
      "text/html": [],
      "text/plain": [
       "<IPython.core.display.HTML object>"
      ]
     },
     "metadata": {},
     "output_type": "display_data"
    },
    {
     "data": {
      "text/html": [],
      "text/plain": [
       "<IPython.core.display.HTML object>"
      ]
     },
     "metadata": {},
     "output_type": "display_data"
    },
    {
     "data": {
      "text/html": [],
      "text/plain": [
       "<IPython.core.display.HTML object>"
      ]
     },
     "metadata": {},
     "output_type": "display_data"
    },
    {
     "data": {
      "text/html": [],
      "text/plain": [
       "<IPython.core.display.HTML object>"
      ]
     },
     "metadata": {},
     "output_type": "display_data"
    },
    {
     "data": {
      "text/html": [],
      "text/plain": [
       "<IPython.core.display.HTML object>"
      ]
     },
     "metadata": {},
     "output_type": "display_data"
    },
    {
     "data": {
      "text/html": [],
      "text/plain": [
       "<IPython.core.display.HTML object>"
      ]
     },
     "metadata": {},
     "output_type": "display_data"
    },
    {
     "data": {
      "text/html": [],
      "text/plain": [
       "<IPython.core.display.HTML object>"
      ]
     },
     "metadata": {},
     "output_type": "display_data"
    },
    {
     "data": {
      "text/html": [],
      "text/plain": [
       "<IPython.core.display.HTML object>"
      ]
     },
     "metadata": {},
     "output_type": "display_data"
    },
    {
     "data": {
      "text/html": [],
      "text/plain": [
       "<IPython.core.display.HTML object>"
      ]
     },
     "metadata": {},
     "output_type": "display_data"
    },
    {
     "data": {
      "text/html": [],
      "text/plain": [
       "<IPython.core.display.HTML object>"
      ]
     },
     "metadata": {},
     "output_type": "display_data"
    },
    {
     "data": {
      "text/html": [],
      "text/plain": [
       "<IPython.core.display.HTML object>"
      ]
     },
     "metadata": {},
     "output_type": "display_data"
    },
    {
     "data": {
      "text/html": [],
      "text/plain": [
       "<IPython.core.display.HTML object>"
      ]
     },
     "metadata": {},
     "output_type": "display_data"
    },
    {
     "data": {
      "text/html": [],
      "text/plain": [
       "<IPython.core.display.HTML object>"
      ]
     },
     "metadata": {},
     "output_type": "display_data"
    },
    {
     "data": {
      "text/html": [],
      "text/plain": [
       "<IPython.core.display.HTML object>"
      ]
     },
     "metadata": {},
     "output_type": "display_data"
    },
    {
     "data": {
      "text/html": [],
      "text/plain": [
       "<IPython.core.display.HTML object>"
      ]
     },
     "metadata": {},
     "output_type": "display_data"
    },
    {
     "data": {
      "text/html": [],
      "text/plain": [
       "<IPython.core.display.HTML object>"
      ]
     },
     "metadata": {},
     "output_type": "display_data"
    },
    {
     "data": {
      "text/html": [],
      "text/plain": [
       "<IPython.core.display.HTML object>"
      ]
     },
     "metadata": {},
     "output_type": "display_data"
    },
    {
     "data": {
      "text/html": [],
      "text/plain": [
       "<IPython.core.display.HTML object>"
      ]
     },
     "metadata": {},
     "output_type": "display_data"
    },
    {
     "data": {
      "text/html": [],
      "text/plain": [
       "<IPython.core.display.HTML object>"
      ]
     },
     "metadata": {},
     "output_type": "display_data"
    },
    {
     "data": {
      "text/html": [],
      "text/plain": [
       "<IPython.core.display.HTML object>"
      ]
     },
     "metadata": {},
     "output_type": "display_data"
    },
    {
     "data": {
      "text/html": [],
      "text/plain": [
       "<IPython.core.display.HTML object>"
      ]
     },
     "metadata": {},
     "output_type": "display_data"
    },
    {
     "data": {
      "text/html": [],
      "text/plain": [
       "<IPython.core.display.HTML object>"
      ]
     },
     "metadata": {},
     "output_type": "display_data"
    },
    {
     "data": {
      "text/html": [],
      "text/plain": [
       "<IPython.core.display.HTML object>"
      ]
     },
     "metadata": {},
     "output_type": "display_data"
    },
    {
     "data": {
      "text/html": [],
      "text/plain": [
       "<IPython.core.display.HTML object>"
      ]
     },
     "metadata": {},
     "output_type": "display_data"
    },
    {
     "data": {
      "text/html": [],
      "text/plain": [
       "<IPython.core.display.HTML object>"
      ]
     },
     "metadata": {},
     "output_type": "display_data"
    },
    {
     "data": {
      "text/html": [],
      "text/plain": [
       "<IPython.core.display.HTML object>"
      ]
     },
     "metadata": {},
     "output_type": "display_data"
    },
    {
     "data": {
      "text/html": [],
      "text/plain": [
       "<IPython.core.display.HTML object>"
      ]
     },
     "metadata": {},
     "output_type": "display_data"
    },
    {
     "data": {
      "text/html": [],
      "text/plain": [
       "<IPython.core.display.HTML object>"
      ]
     },
     "metadata": {},
     "output_type": "display_data"
    },
    {
     "data": {
      "text/html": [],
      "text/plain": [
       "<IPython.core.display.HTML object>"
      ]
     },
     "metadata": {},
     "output_type": "display_data"
    },
    {
     "data": {
      "text/html": [],
      "text/plain": [
       "<IPython.core.display.HTML object>"
      ]
     },
     "metadata": {},
     "output_type": "display_data"
    },
    {
     "data": {
      "text/html": [],
      "text/plain": [
       "<IPython.core.display.HTML object>"
      ]
     },
     "metadata": {},
     "output_type": "display_data"
    },
    {
     "data": {
      "text/html": [],
      "text/plain": [
       "<IPython.core.display.HTML object>"
      ]
     },
     "metadata": {},
     "output_type": "display_data"
    },
    {
     "data": {
      "text/html": [],
      "text/plain": [
       "<IPython.core.display.HTML object>"
      ]
     },
     "metadata": {},
     "output_type": "display_data"
    },
    {
     "data": {
      "text/html": [],
      "text/plain": [
       "<IPython.core.display.HTML object>"
      ]
     },
     "metadata": {},
     "output_type": "display_data"
    },
    {
     "data": {
      "text/html": [],
      "text/plain": [
       "<IPython.core.display.HTML object>"
      ]
     },
     "metadata": {},
     "output_type": "display_data"
    },
    {
     "data": {
      "text/html": [],
      "text/plain": [
       "<IPython.core.display.HTML object>"
      ]
     },
     "metadata": {},
     "output_type": "display_data"
    },
    {
     "data": {
      "text/html": [],
      "text/plain": [
       "<IPython.core.display.HTML object>"
      ]
     },
     "metadata": {},
     "output_type": "display_data"
    },
    {
     "data": {
      "text/html": [],
      "text/plain": [
       "<IPython.core.display.HTML object>"
      ]
     },
     "metadata": {},
     "output_type": "display_data"
    },
    {
     "data": {
      "text/html": [],
      "text/plain": [
       "<IPython.core.display.HTML object>"
      ]
     },
     "metadata": {},
     "output_type": "display_data"
    },
    {
     "data": {
      "text/html": [],
      "text/plain": [
       "<IPython.core.display.HTML object>"
      ]
     },
     "metadata": {},
     "output_type": "display_data"
    },
    {
     "data": {
      "text/html": [],
      "text/plain": [
       "<IPython.core.display.HTML object>"
      ]
     },
     "metadata": {},
     "output_type": "display_data"
    },
    {
     "data": {
      "text/html": [],
      "text/plain": [
       "<IPython.core.display.HTML object>"
      ]
     },
     "metadata": {},
     "output_type": "display_data"
    },
    {
     "data": {
      "text/html": [],
      "text/plain": [
       "<IPython.core.display.HTML object>"
      ]
     },
     "metadata": {},
     "output_type": "display_data"
    },
    {
     "data": {
      "text/html": [],
      "text/plain": [
       "<IPython.core.display.HTML object>"
      ]
     },
     "metadata": {},
     "output_type": "display_data"
    },
    {
     "data": {
      "text/html": [],
      "text/plain": [
       "<IPython.core.display.HTML object>"
      ]
     },
     "metadata": {},
     "output_type": "display_data"
    },
    {
     "data": {
      "text/html": [],
      "text/plain": [
       "<IPython.core.display.HTML object>"
      ]
     },
     "metadata": {},
     "output_type": "display_data"
    },
    {
     "data": {
      "text/html": [],
      "text/plain": [
       "<IPython.core.display.HTML object>"
      ]
     },
     "metadata": {},
     "output_type": "display_data"
    },
    {
     "data": {
      "text/html": [],
      "text/plain": [
       "<IPython.core.display.HTML object>"
      ]
     },
     "metadata": {},
     "output_type": "display_data"
    },
    {
     "data": {
      "text/html": [],
      "text/plain": [
       "<IPython.core.display.HTML object>"
      ]
     },
     "metadata": {},
     "output_type": "display_data"
    },
    {
     "data": {
      "text/html": [],
      "text/plain": [
       "<IPython.core.display.HTML object>"
      ]
     },
     "metadata": {},
     "output_type": "display_data"
    },
    {
     "data": {
      "text/html": [],
      "text/plain": [
       "<IPython.core.display.HTML object>"
      ]
     },
     "metadata": {},
     "output_type": "display_data"
    },
    {
     "data": {
      "text/html": [],
      "text/plain": [
       "<IPython.core.display.HTML object>"
      ]
     },
     "metadata": {},
     "output_type": "display_data"
    },
    {
     "data": {
      "text/html": [],
      "text/plain": [
       "<IPython.core.display.HTML object>"
      ]
     },
     "metadata": {},
     "output_type": "display_data"
    },
    {
     "data": {
      "text/html": [],
      "text/plain": [
       "<IPython.core.display.HTML object>"
      ]
     },
     "metadata": {},
     "output_type": "display_data"
    },
    {
     "data": {
      "text/html": [],
      "text/plain": [
       "<IPython.core.display.HTML object>"
      ]
     },
     "metadata": {},
     "output_type": "display_data"
    },
    {
     "data": {
      "text/html": [],
      "text/plain": [
       "<IPython.core.display.HTML object>"
      ]
     },
     "metadata": {},
     "output_type": "display_data"
    },
    {
     "data": {
      "text/html": [],
      "text/plain": [
       "<IPython.core.display.HTML object>"
      ]
     },
     "metadata": {},
     "output_type": "display_data"
    },
    {
     "data": {
      "text/html": [],
      "text/plain": [
       "<IPython.core.display.HTML object>"
      ]
     },
     "metadata": {},
     "output_type": "display_data"
    },
    {
     "data": {
      "text/html": [],
      "text/plain": [
       "<IPython.core.display.HTML object>"
      ]
     },
     "metadata": {},
     "output_type": "display_data"
    },
    {
     "data": {
      "text/html": [],
      "text/plain": [
       "<IPython.core.display.HTML object>"
      ]
     },
     "metadata": {},
     "output_type": "display_data"
    },
    {
     "data": {
      "text/html": [],
      "text/plain": [
       "<IPython.core.display.HTML object>"
      ]
     },
     "metadata": {},
     "output_type": "display_data"
    },
    {
     "data": {
      "text/html": [],
      "text/plain": [
       "<IPython.core.display.HTML object>"
      ]
     },
     "metadata": {},
     "output_type": "display_data"
    },
    {
     "data": {
      "text/html": [],
      "text/plain": [
       "<IPython.core.display.HTML object>"
      ]
     },
     "metadata": {},
     "output_type": "display_data"
    },
    {
     "data": {
      "text/html": [],
      "text/plain": [
       "<IPython.core.display.HTML object>"
      ]
     },
     "metadata": {},
     "output_type": "display_data"
    },
    {
     "data": {
      "text/html": [],
      "text/plain": [
       "<IPython.core.display.HTML object>"
      ]
     },
     "metadata": {},
     "output_type": "display_data"
    },
    {
     "data": {
      "text/html": [],
      "text/plain": [
       "<IPython.core.display.HTML object>"
      ]
     },
     "metadata": {},
     "output_type": "display_data"
    },
    {
     "data": {
      "text/html": [],
      "text/plain": [
       "<IPython.core.display.HTML object>"
      ]
     },
     "metadata": {},
     "output_type": "display_data"
    },
    {
     "data": {
      "text/html": [],
      "text/plain": [
       "<IPython.core.display.HTML object>"
      ]
     },
     "metadata": {},
     "output_type": "display_data"
    },
    {
     "data": {
      "text/html": [],
      "text/plain": [
       "<IPython.core.display.HTML object>"
      ]
     },
     "metadata": {},
     "output_type": "display_data"
    },
    {
     "data": {
      "text/html": [],
      "text/plain": [
       "<IPython.core.display.HTML object>"
      ]
     },
     "metadata": {},
     "output_type": "display_data"
    },
    {
     "data": {
      "text/html": [],
      "text/plain": [
       "<IPython.core.display.HTML object>"
      ]
     },
     "metadata": {},
     "output_type": "display_data"
    },
    {
     "data": {
      "text/html": [],
      "text/plain": [
       "<IPython.core.display.HTML object>"
      ]
     },
     "metadata": {},
     "output_type": "display_data"
    },
    {
     "data": {
      "text/html": [],
      "text/plain": [
       "<IPython.core.display.HTML object>"
      ]
     },
     "metadata": {},
     "output_type": "display_data"
    },
    {
     "data": {
      "text/html": [],
      "text/plain": [
       "<IPython.core.display.HTML object>"
      ]
     },
     "metadata": {},
     "output_type": "display_data"
    },
    {
     "data": {
      "text/html": [],
      "text/plain": [
       "<IPython.core.display.HTML object>"
      ]
     },
     "metadata": {},
     "output_type": "display_data"
    },
    {
     "data": {
      "text/html": [],
      "text/plain": [
       "<IPython.core.display.HTML object>"
      ]
     },
     "metadata": {},
     "output_type": "display_data"
    },
    {
     "data": {
      "text/html": [],
      "text/plain": [
       "<IPython.core.display.HTML object>"
      ]
     },
     "metadata": {},
     "output_type": "display_data"
    },
    {
     "data": {
      "text/html": [],
      "text/plain": [
       "<IPython.core.display.HTML object>"
      ]
     },
     "metadata": {},
     "output_type": "display_data"
    },
    {
     "data": {
      "text/html": [],
      "text/plain": [
       "<IPython.core.display.HTML object>"
      ]
     },
     "metadata": {},
     "output_type": "display_data"
    },
    {
     "data": {
      "text/html": [],
      "text/plain": [
       "<IPython.core.display.HTML object>"
      ]
     },
     "metadata": {},
     "output_type": "display_data"
    },
    {
     "data": {
      "text/html": [],
      "text/plain": [
       "<IPython.core.display.HTML object>"
      ]
     },
     "metadata": {},
     "output_type": "display_data"
    },
    {
     "data": {
      "text/html": [],
      "text/plain": [
       "<IPython.core.display.HTML object>"
      ]
     },
     "metadata": {},
     "output_type": "display_data"
    },
    {
     "data": {
      "text/html": [],
      "text/plain": [
       "<IPython.core.display.HTML object>"
      ]
     },
     "metadata": {},
     "output_type": "display_data"
    },
    {
     "data": {
      "text/html": [],
      "text/plain": [
       "<IPython.core.display.HTML object>"
      ]
     },
     "metadata": {},
     "output_type": "display_data"
    },
    {
     "data": {
      "text/html": [],
      "text/plain": [
       "<IPython.core.display.HTML object>"
      ]
     },
     "metadata": {},
     "output_type": "display_data"
    },
    {
     "data": {
      "text/html": [],
      "text/plain": [
       "<IPython.core.display.HTML object>"
      ]
     },
     "metadata": {},
     "output_type": "display_data"
    },
    {
     "data": {
      "text/html": [],
      "text/plain": [
       "<IPython.core.display.HTML object>"
      ]
     },
     "metadata": {},
     "output_type": "display_data"
    },
    {
     "data": {
      "text/html": [],
      "text/plain": [
       "<IPython.core.display.HTML object>"
      ]
     },
     "metadata": {},
     "output_type": "display_data"
    },
    {
     "data": {
      "text/html": [],
      "text/plain": [
       "<IPython.core.display.HTML object>"
      ]
     },
     "metadata": {},
     "output_type": "display_data"
    },
    {
     "data": {
      "text/html": [],
      "text/plain": [
       "<IPython.core.display.HTML object>"
      ]
     },
     "metadata": {},
     "output_type": "display_data"
    },
    {
     "data": {
      "text/html": [],
      "text/plain": [
       "<IPython.core.display.HTML object>"
      ]
     },
     "metadata": {},
     "output_type": "display_data"
    },
    {
     "data": {
      "text/html": [],
      "text/plain": [
       "<IPython.core.display.HTML object>"
      ]
     },
     "metadata": {},
     "output_type": "display_data"
    },
    {
     "data": {
      "text/html": [],
      "text/plain": [
       "<IPython.core.display.HTML object>"
      ]
     },
     "metadata": {},
     "output_type": "display_data"
    },
    {
     "data": {
      "text/html": [],
      "text/plain": [
       "<IPython.core.display.HTML object>"
      ]
     },
     "metadata": {},
     "output_type": "display_data"
    },
    {
     "data": {
      "text/html": [],
      "text/plain": [
       "<IPython.core.display.HTML object>"
      ]
     },
     "metadata": {},
     "output_type": "display_data"
    },
    {
     "data": {
      "text/html": [],
      "text/plain": [
       "<IPython.core.display.HTML object>"
      ]
     },
     "metadata": {},
     "output_type": "display_data"
    },
    {
     "data": {
      "text/html": [],
      "text/plain": [
       "<IPython.core.display.HTML object>"
      ]
     },
     "metadata": {},
     "output_type": "display_data"
    },
    {
     "data": {
      "text/html": [],
      "text/plain": [
       "<IPython.core.display.HTML object>"
      ]
     },
     "metadata": {},
     "output_type": "display_data"
    },
    {
     "data": {
      "text/html": [],
      "text/plain": [
       "<IPython.core.display.HTML object>"
      ]
     },
     "metadata": {},
     "output_type": "display_data"
    },
    {
     "data": {
      "text/html": [],
      "text/plain": [
       "<IPython.core.display.HTML object>"
      ]
     },
     "metadata": {},
     "output_type": "display_data"
    },
    {
     "data": {
      "text/html": [],
      "text/plain": [
       "<IPython.core.display.HTML object>"
      ]
     },
     "metadata": {},
     "output_type": "display_data"
    },
    {
     "data": {
      "text/html": [],
      "text/plain": [
       "<IPython.core.display.HTML object>"
      ]
     },
     "metadata": {},
     "output_type": "display_data"
    },
    {
     "data": {
      "text/html": [],
      "text/plain": [
       "<IPython.core.display.HTML object>"
      ]
     },
     "metadata": {},
     "output_type": "display_data"
    },
    {
     "data": {
      "text/html": [],
      "text/plain": [
       "<IPython.core.display.HTML object>"
      ]
     },
     "metadata": {},
     "output_type": "display_data"
    },
    {
     "data": {
      "text/html": [],
      "text/plain": [
       "<IPython.core.display.HTML object>"
      ]
     },
     "metadata": {},
     "output_type": "display_data"
    },
    {
     "data": {
      "text/html": [],
      "text/plain": [
       "<IPython.core.display.HTML object>"
      ]
     },
     "metadata": {},
     "output_type": "display_data"
    },
    {
     "data": {
      "text/html": [],
      "text/plain": [
       "<IPython.core.display.HTML object>"
      ]
     },
     "metadata": {},
     "output_type": "display_data"
    },
    {
     "data": {
      "text/html": [],
      "text/plain": [
       "<IPython.core.display.HTML object>"
      ]
     },
     "metadata": {},
     "output_type": "display_data"
    },
    {
     "data": {
      "text/html": [],
      "text/plain": [
       "<IPython.core.display.HTML object>"
      ]
     },
     "metadata": {},
     "output_type": "display_data"
    },
    {
     "data": {
      "text/html": [],
      "text/plain": [
       "<IPython.core.display.HTML object>"
      ]
     },
     "metadata": {},
     "output_type": "display_data"
    },
    {
     "data": {
      "text/html": [],
      "text/plain": [
       "<IPython.core.display.HTML object>"
      ]
     },
     "metadata": {},
     "output_type": "display_data"
    },
    {
     "name": "stdout",
     "output_type": "stream",
     "text": [
      "CPU times: user 13.4 s, sys: 3.24 s, total: 16.6 s\n",
      "Wall time: 16.9 s\n"
     ]
    }
   ],
   "source": [
    "%%time\n",
    "\n",
    "# Vectorising Answer Text\n",
    "# creating a new series\n",
    "vectors = pd.Series([], dtype = float) \n",
    "    \n",
    "for row_index,row in data.iterrows():\n",
    "    vect = get_embedding_vectors(row['ans'], 'or')     # getting embedding vectors\n",
    "    vectors[row_index] =  vect\n",
    "    \n",
    "# Padding and trimming the vectors to a common length\n",
    "pad_vectors = keras.preprocessing.sequence.pad_sequences(vectors, padding=\"post\", maxlen=pad_length, dtype='float32')"
   ]
  },
  {
   "cell_type": "code",
   "execution_count": 6,
   "metadata": {},
   "outputs": [],
   "source": [
    "# checking if padding done correctly\n",
    "for _ in pad_vectors:\n",
    "    if len(_) != pad_length:\n",
    "        print(pad_vectors.index(_))"
   ]
  },
  {
   "cell_type": "markdown",
   "metadata": {},
   "source": [
    "## Training and Testing"
   ]
  },
  {
   "cell_type": "markdown",
   "metadata": {},
   "source": [
    "### Function for classical model - Random Forest Classifier"
   ]
  },
  {
   "cell_type": "code",
   "execution_count": 7,
   "metadata": {},
   "outputs": [],
   "source": [
    "def train_rfc(x_train, x_test, y_train, y_test, n):\n",
    "    # Reshaping the vector input into 2-d from 3-d as RFC exxcepts <=2d input\n",
    "    nsamples, nx, ny = x_train.shape\n",
    "    x_train_rfc = x_train.reshape((nsamples,nx*ny))\n",
    "\n",
    "    nsamples, nx, ny = x_test.shape\n",
    "    x_test_rfc = x_test.reshape((nsamples,nx*ny))\n",
    "\n",
    "    rfc = RandomForestClassifier(n_estimators=26, random_state=200)\n",
    "    clf = rfc.fit(x_train_rfc, y_train)\n",
    "    acc = clf.score(x_test_rfc, y_test)*100\n",
    "    return acc"
   ]
  },
  {
   "cell_type": "markdown",
   "metadata": {},
   "source": [
    "### Function for DL model - CNN"
   ]
  },
  {
   "cell_type": "code",
   "execution_count": 8,
   "metadata": {},
   "outputs": [],
   "source": [
    "def train_cnn(x_train, x_test, y_train, y_test, n):\n",
    "    #Add Sequential\n",
    "    model_cnn = keras.Sequential()\n",
    "\n",
    "    # 1st convolutional layer\n",
    "    model_cnn.add(Dropout(0.2))\n",
    "    model_cnn.add(Conv1D(64, 4, activation='relu'))\n",
    "    model_cnn.add(MaxPooling1D(pool_size=8))\n",
    "    model_cnn.add(Flatten())\n",
    "    model_cnn.add(Dense(60,activation='relu'))\n",
    "    model_cnn.add(Dense(6,activation='softmax'))\n",
    "\n",
    "    model_cnn.compile(loss='sparse_categorical_crossentropy', optimizer='adam', metrics=['accuracy'])\n",
    "        \n",
    "#     Create a TensorBoard instance with the path to the logs directory\n",
    "    tensorboard = TensorBoard(log_dir='logs/{}/cnn/{}'.format(n, time()))\n",
    "    \n",
    "    model_cnn.fit(x_train, y_train, epochs = 10,  verbose = 1, callbacks=[tensorboard])\n",
    "\n",
    "    results = model_cnn.evaluate(x_test, y_test)\n",
    "    return results[1]*100"
   ]
  },
  {
   "cell_type": "markdown",
   "metadata": {},
   "source": [
    "### Function for DL model - LSTM"
   ]
  },
  {
   "cell_type": "code",
   "execution_count": 9,
   "metadata": {},
   "outputs": [],
   "source": [
    "def train_lstm(x_train, x_test, y_train, y_test, n):\n",
    "    model_lstm = keras.Sequential()\n",
    "\n",
    "    model_lstm.add(Conv1D(input_shape=(pad_length,400), filters = pad_length, kernel_size = 40))\n",
    "    model_lstm.add(LSTM(96, dropout=0.2))\n",
    "    model_lstm.add(Dense(24,activation='sigmoid'))\n",
    "    model_lstm.add(Dense(6,activation='softmax'))\n",
    "\n",
    "    model_lstm.compile(loss='sparse_categorical_crossentropy', optimizer='adam', metrics=['accuracy'])\n",
    "\n",
    "#     Create a TensorBoard instance with the path to the logs directory\n",
    "    tensorboard = TensorBoard(log_dir='logs/{}/lstm/{}'.format(n, time()))\n",
    "\n",
    "    fitmodel = model_lstm.fit(x_train, y_train, epochs = 10,  verbose = 1, callbacks=[tensorboard])   \n",
    "\n",
    "    results = model_lstm.evaluate(x_test, y_test)\n",
    "    return results[1]*100"
   ]
  },
  {
   "cell_type": "markdown",
   "metadata": {},
   "source": [
    "### Training"
   ]
  },
  {
   "cell_type": "code",
   "execution_count": null,
   "metadata": {},
   "outputs": [],
   "source": []
  },
  {
   "cell_type": "code",
   "execution_count": 10,
   "metadata": {
    "jupyter": {
     "outputs_hidden": true
    },
    "scrolled": true
   },
   "outputs": [
    {
     "name": "stdout",
     "output_type": "stream",
     "text": [
      "Training on: 0.2 \n",
      "\n",
      "CNN Training-------------------------------------------- 0.2 \n",
      "\n",
      "Train on 13 samples\n",
      "Epoch 1/10\n",
      "WARNING:tensorflow:Entity <function Function._initialize_uninitialized_variables.<locals>.initialize_variables at 0x7ffa941c8f28> could not be transformed and will be executed as-is. Please report this to the AutoGraph team. When filing the bug, set the verbosity to 10 (on Linux, `export AUTOGRAPH_VERBOSITY=10`) and attach the full output. Cause: module 'gast' has no attribute 'Num'\n",
      "WARNING: Entity <function Function._initialize_uninitialized_variables.<locals>.initialize_variables at 0x7ffa941c8f28> could not be transformed and will be executed as-is. Please report this to the AutoGraph team. When filing the bug, set the verbosity to 10 (on Linux, `export AUTOGRAPH_VERBOSITY=10`) and attach the full output. Cause: module 'gast' has no attribute 'Num'\n",
      "13/13 [==============================] - 1s 85ms/sample - loss: 2.1139 - accuracy: 0.3846\n",
      "Epoch 2/10\n",
      "13/13 [==============================] - 0s 4ms/sample - loss: 1.3043 - accuracy: 0.3077\n",
      "Epoch 3/10\n",
      "13/13 [==============================] - 0s 3ms/sample - loss: 0.6406 - accuracy: 0.8462\n",
      "Epoch 4/10\n",
      "13/13 [==============================] - 0s 3ms/sample - loss: 0.5163 - accuracy: 0.9231\n",
      "Epoch 5/10\n",
      "13/13 [==============================] - 0s 4ms/sample - loss: 0.3332 - accuracy: 0.9231\n",
      "Epoch 6/10\n",
      "13/13 [==============================] - 0s 4ms/sample - loss: 0.1192 - accuracy: 1.0000\n",
      "Epoch 7/10\n",
      "13/13 [==============================] - 0s 5ms/sample - loss: 0.0607 - accuracy: 1.0000\n",
      "Epoch 8/10\n",
      "13/13 [==============================] - 0s 4ms/sample - loss: 0.0532 - accuracy: 1.0000\n",
      "Epoch 9/10\n",
      "13/13 [==============================] - 0s 4ms/sample - loss: 0.0302 - accuracy: 1.0000\n",
      "Epoch 10/10\n",
      "13/13 [==============================] - 0s 4ms/sample - loss: 0.0240 - accuracy: 1.0000\n",
      "54/1 [====================================================================================================================================================================================================================================================================================================================================================================================================================================================================================================================================================================================================================================================================================================================================================================================================================================================================================================================================================================================================================================================================================================================================================================================================================================================================================================================================================================================================================================================================================================================================================================================================================================================================================] - 0s 5ms/sample - loss: 2.1042 - accuracy: 0.3889\n",
      "\n",
      "LSTM Training-------------------------------------------- 0.2 \n",
      "\n",
      "Train on 13 samples\n",
      "Epoch 1/10\n",
      "WARNING:tensorflow:Entity <function Function._initialize_uninitialized_variables.<locals>.initialize_variables at 0x7ffa8e163840> could not be transformed and will be executed as-is. Please report this to the AutoGraph team. When filing the bug, set the verbosity to 10 (on Linux, `export AUTOGRAPH_VERBOSITY=10`) and attach the full output. Cause: module 'gast' has no attribute 'Num'\n",
      "WARNING: Entity <function Function._initialize_uninitialized_variables.<locals>.initialize_variables at 0x7ffa8e163840> could not be transformed and will be executed as-is. Please report this to the AutoGraph team. When filing the bug, set the verbosity to 10 (on Linux, `export AUTOGRAPH_VERBOSITY=10`) and attach the full output. Cause: module 'gast' has no attribute 'Num'\n",
      "13/13 [==============================] - 5s 392ms/sample - loss: 1.9826 - accuracy: 0.1538\n",
      "Epoch 2/10\n",
      "WARNING:tensorflow:Method (on_train_batch_end) is slow compared to the batch update (0.971975). Check your callbacks.\n",
      "13/13 [==============================] - 2s 118ms/sample - loss: 1.6405 - accuracy: 0.3077\n",
      "Epoch 3/10\n",
      "13/13 [==============================] - 0s 33ms/sample - loss: 1.4627 - accuracy: 0.5385\n",
      "Epoch 4/10\n",
      "13/13 [==============================] - 0s 34ms/sample - loss: 1.3403 - accuracy: 0.7692\n",
      "Epoch 5/10\n",
      "13/13 [==============================] - 0s 30ms/sample - loss: 1.2789 - accuracy: 0.7692\n",
      "Epoch 6/10\n",
      "13/13 [==============================] - 0s 32ms/sample - loss: 1.2052 - accuracy: 0.7692\n",
      "Epoch 7/10\n",
      "13/13 [==============================] - 0s 35ms/sample - loss: 1.1564 - accuracy: 0.7692\n",
      "Epoch 8/10\n",
      "13/13 [==============================] - 0s 29ms/sample - loss: 1.1140 - accuracy: 0.7692\n",
      "Epoch 9/10\n",
      "13/13 [==============================] - 0s 31ms/sample - loss: 1.0695 - accuracy: 0.7692\n",
      "Epoch 10/10\n",
      "13/13 [==============================] - 0s 31ms/sample - loss: 1.0465 - accuracy: 0.7692\n",
      "54/1 [====================================================================================================================================================================================================================================================================================================================================================================================================================================================================================================================================================================================================================================================================================================================================================================================================================================================================================================================================================================================================================================================================================================================================================================================================================================================================================================================================================================================================================================================================================================================================================================================================================================================================================] - 2s 29ms/sample - loss: 1.5452 - accuracy: 0.4444\n",
      "\n",
      "-------------------------------------------------------------------------------------------\n",
      "-------------------------------------------------------------------------------------------\n",
      "-------------------------------------------------------------------------------------------\n",
      "\n",
      "\n",
      "\n",
      "\n",
      "Training on: 0.3 \n",
      "\n",
      "CNN Training-------------------------------------------- 0.3 \n",
      "\n",
      "Train on 20 samples\n",
      "Epoch 1/10\n",
      "WARNING:tensorflow:Entity <function Function._initialize_uninitialized_variables.<locals>.initialize_variables at 0x7ffa2ac21bf8> could not be transformed and will be executed as-is. Please report this to the AutoGraph team. When filing the bug, set the verbosity to 10 (on Linux, `export AUTOGRAPH_VERBOSITY=10`) and attach the full output. Cause: module 'gast' has no attribute 'Num'\n",
      "WARNING: Entity <function Function._initialize_uninitialized_variables.<locals>.initialize_variables at 0x7ffa2ac21bf8> could not be transformed and will be executed as-is. Please report this to the AutoGraph team. When filing the bug, set the verbosity to 10 (on Linux, `export AUTOGRAPH_VERBOSITY=10`) and attach the full output. Cause: module 'gast' has no attribute 'Num'\n"
     ]
    },
    {
     "name": "stdout",
     "output_type": "stream",
     "text": [
      "20/20 [==============================] - 1s 68ms/sample - loss: 2.4726 - accuracy: 0.1500\n",
      "Epoch 2/10\n",
      "20/20 [==============================] - 0s 4ms/sample - loss: 1.2649 - accuracy: 0.5500\n",
      "Epoch 3/10\n",
      "20/20 [==============================] - 0s 3ms/sample - loss: 1.0452 - accuracy: 0.6500\n",
      "Epoch 4/10\n",
      "20/20 [==============================] - 0s 4ms/sample - loss: 0.6839 - accuracy: 0.8500\n",
      "Epoch 5/10\n",
      "20/20 [==============================] - 0s 4ms/sample - loss: 0.4748 - accuracy: 0.9000\n",
      "Epoch 6/10\n",
      "20/20 [==============================] - 0s 4ms/sample - loss: 0.3047 - accuracy: 0.9000\n",
      "Epoch 7/10\n",
      "20/20 [==============================] - 0s 3ms/sample - loss: 0.2014 - accuracy: 1.0000\n",
      "Epoch 8/10\n",
      "20/20 [==============================] - 0s 4ms/sample - loss: 0.0961 - accuracy: 1.0000\n",
      "Epoch 9/10\n",
      "20/20 [==============================] - 0s 3ms/sample - loss: 0.0585 - accuracy: 1.0000\n",
      "Epoch 10/10\n",
      "20/20 [==============================] - 0s 3ms/sample - loss: 0.0315 - accuracy: 1.0000\n",
      "47/1 [==================================================================================================================================================================================================================================================================================================================================================================================================================================================================================================================================================================================================================================================================================================================================================================================================================================================================================================================================================================================================================================================================================================================================================================================================================================================================================================================================================================================================================================================================] - 0s 6ms/sample - loss: 1.6022 - accuracy: 0.4894\n",
      "\n",
      "LSTM Training-------------------------------------------- 0.3 \n",
      "\n",
      "Train on 20 samples\n",
      "Epoch 1/10\n",
      "WARNING:tensorflow:Entity <function Function._initialize_uninitialized_variables.<locals>.initialize_variables at 0x7ffa497fe158> could not be transformed and will be executed as-is. Please report this to the AutoGraph team. When filing the bug, set the verbosity to 10 (on Linux, `export AUTOGRAPH_VERBOSITY=10`) and attach the full output. Cause: module 'gast' has no attribute 'Num'\n",
      "WARNING: Entity <function Function._initialize_uninitialized_variables.<locals>.initialize_variables at 0x7ffa497fe158> could not be transformed and will be executed as-is. Please report this to the AutoGraph team. When filing the bug, set the verbosity to 10 (on Linux, `export AUTOGRAPH_VERBOSITY=10`) and attach the full output. Cause: module 'gast' has no attribute 'Num'\n",
      "20/20 [==============================] - 5s 251ms/sample - loss: 1.6425 - accuracy: 0.3000\n",
      "Epoch 2/10\n",
      "WARNING:tensorflow:Method (on_train_batch_end) is slow compared to the batch update (0.956309). Check your callbacks.\n",
      "20/20 [==============================] - 2s 80ms/sample - loss: 1.3506 - accuracy: 0.3000\n",
      "Epoch 3/10\n",
      "20/20 [==============================] - 1s 27ms/sample - loss: 1.1749 - accuracy: 0.7000\n",
      "Epoch 4/10\n",
      "20/20 [==============================] - 1s 26ms/sample - loss: 1.0650 - accuracy: 0.7000\n",
      "Epoch 5/10\n",
      "20/20 [==============================] - 1s 26ms/sample - loss: 1.0014 - accuracy: 0.7000\n",
      "Epoch 6/10\n",
      "20/20 [==============================] - 1s 27ms/sample - loss: 0.9522 - accuracy: 0.7500\n",
      "Epoch 7/10\n",
      "20/20 [==============================] - 1s 26ms/sample - loss: 0.9145 - accuracy: 0.7500\n",
      "Epoch 8/10\n",
      "20/20 [==============================] - 1s 27ms/sample - loss: 0.8865 - accuracy: 0.7500\n",
      "Epoch 9/10\n",
      "20/20 [==============================] - 1s 26ms/sample - loss: 0.8621 - accuracy: 0.7500\n",
      "Epoch 10/10\n",
      "20/20 [==============================] - 1s 26ms/sample - loss: 0.8362 - accuracy: 0.7500\n",
      "47/1 [==================================================================================================================================================================================================================================================================================================================================================================================================================================================================================================================================================================================================================================================================================================================================================================================================================================================================================================================================================================================================================================================================================================================================================================================================================================================================================================================================================================================================================================================================] - 1s 31ms/sample - loss: 1.4961 - accuracy: 0.5745\n",
      "\n",
      "-------------------------------------------------------------------------------------------\n",
      "-------------------------------------------------------------------------------------------\n",
      "-------------------------------------------------------------------------------------------\n",
      "\n",
      "\n",
      "\n",
      "\n",
      "Training on: 0.4 \n",
      "\n",
      "CNN Training-------------------------------------------- 0.4 \n",
      "\n",
      "Train on 26 samples\n",
      "Epoch 1/10\n",
      "WARNING:tensorflow:Entity <function Function._initialize_uninitialized_variables.<locals>.initialize_variables at 0x7ffa4846d378> could not be transformed and will be executed as-is. Please report this to the AutoGraph team. When filing the bug, set the verbosity to 10 (on Linux, `export AUTOGRAPH_VERBOSITY=10`) and attach the full output. Cause: module 'gast' has no attribute 'Num'\n",
      "WARNING: Entity <function Function._initialize_uninitialized_variables.<locals>.initialize_variables at 0x7ffa4846d378> could not be transformed and will be executed as-is. Please report this to the AutoGraph team. When filing the bug, set the verbosity to 10 (on Linux, `export AUTOGRAPH_VERBOSITY=10`) and attach the full output. Cause: module 'gast' has no attribute 'Num'\n",
      "26/26 [==============================] - 1s 39ms/sample - loss: 1.8893 - accuracy: 0.3462\n",
      "Epoch 2/10\n",
      "26/26 [==============================] - 0s 4ms/sample - loss: 1.1676 - accuracy: 0.5385\n",
      "Epoch 3/10\n",
      "26/26 [==============================] - 0s 3ms/sample - loss: 0.8618 - accuracy: 0.6923\n",
      "Epoch 4/10\n",
      "26/26 [==============================] - 0s 3ms/sample - loss: 0.5593 - accuracy: 0.8846\n",
      "Epoch 5/10\n",
      "26/26 [==============================] - 0s 3ms/sample - loss: 0.3781 - accuracy: 0.9231\n",
      "Epoch 6/10\n",
      "26/26 [==============================] - 0s 4ms/sample - loss: 0.2458 - accuracy: 1.0000\n",
      "Epoch 7/10\n",
      "26/26 [==============================] - 0s 3ms/sample - loss: 0.1336 - accuracy: 1.0000\n",
      "Epoch 8/10\n",
      "26/26 [==============================] - 0s 3ms/sample - loss: 0.0929 - accuracy: 1.0000\n",
      "Epoch 9/10\n",
      "26/26 [==============================] - 0s 3ms/sample - loss: 0.0599 - accuracy: 1.0000\n",
      "Epoch 10/10\n",
      "26/26 [==============================] - 0s 3ms/sample - loss: 0.0419 - accuracy: 1.0000\n",
      "41/1 [==============================================================================================================================================================================================================================================================================================================================================================================================================================================================================================================================================================================================================================================================================================================================================================================================================================================================================================================================================================================================================================================================================================================================================================================================================================================================================] - 0s 6ms/sample - loss: 1.1217 - accuracy: 0.4878\n"
     ]
    },
    {
     "name": "stdout",
     "output_type": "stream",
     "text": [
      "\n",
      "LSTM Training-------------------------------------------- 0.4 \n",
      "\n",
      "Train on 26 samples\n",
      "Epoch 1/10\n",
      "WARNING:tensorflow:Entity <function Function._initialize_uninitialized_variables.<locals>.initialize_variables at 0x7ffa28dd2bf8> could not be transformed and will be executed as-is. Please report this to the AutoGraph team. When filing the bug, set the verbosity to 10 (on Linux, `export AUTOGRAPH_VERBOSITY=10`) and attach the full output. Cause: module 'gast' has no attribute 'Num'\n",
      "WARNING: Entity <function Function._initialize_uninitialized_variables.<locals>.initialize_variables at 0x7ffa28dd2bf8> could not be transformed and will be executed as-is. Please report this to the AutoGraph team. When filing the bug, set the verbosity to 10 (on Linux, `export AUTOGRAPH_VERBOSITY=10`) and attach the full output. Cause: module 'gast' has no attribute 'Num'\n",
      "26/26 [==============================] - 5s 203ms/sample - loss: 2.0427 - accuracy: 0.2308\n",
      "Epoch 2/10\n",
      "WARNING:tensorflow:Method (on_train_batch_end) is slow compared to the batch update (0.958819). Check your callbacks.\n",
      "26/26 [==============================] - 2s 58ms/sample - loss: 1.6666 - accuracy: 0.2308\n",
      "Epoch 3/10\n",
      "26/26 [==============================] - 0s 18ms/sample - loss: 1.4864 - accuracy: 0.2308\n",
      "Epoch 4/10\n",
      "26/26 [==============================] - 0s 19ms/sample - loss: 1.3366 - accuracy: 0.3077\n",
      "Epoch 5/10\n",
      "26/26 [==============================] - 0s 19ms/sample - loss: 1.2578 - accuracy: 0.3846\n",
      "Epoch 6/10\n",
      "26/26 [==============================] - 0s 17ms/sample - loss: 1.1831 - accuracy: 0.4231\n",
      "Epoch 7/10\n",
      "26/26 [==============================] - 1s 23ms/sample - loss: 1.1147 - accuracy: 0.6923\n",
      "Epoch 8/10\n",
      "26/26 [==============================] - 0s 17ms/sample - loss: 1.0656 - accuracy: 0.7692\n",
      "Epoch 9/10\n",
      "26/26 [==============================] - 0s 17ms/sample - loss: 1.0220 - accuracy: 0.8077\n",
      "Epoch 10/10\n",
      "26/26 [==============================] - 0s 17ms/sample - loss: 0.9941 - accuracy: 0.9231\n",
      "41/1 [==============================================================================================================================================================================================================================================================================================================================================================================================================================================================================================================================================================================================================================================================================================================================================================================================================================================================================================================================================================================================================================================================================================================================================================================================================================================================================] - 1s 22ms/sample - loss: 1.4430 - accuracy: 0.5122\n",
      "\n",
      "-------------------------------------------------------------------------------------------\n",
      "-------------------------------------------------------------------------------------------\n",
      "-------------------------------------------------------------------------------------------\n",
      "\n",
      "\n",
      "\n",
      "\n",
      "Training on: 0.5 \n",
      "\n",
      "CNN Training-------------------------------------------- 0.5 \n",
      "\n",
      "Train on 33 samples\n",
      "Epoch 1/10\n",
      "WARNING:tensorflow:Entity <function Function._initialize_uninitialized_variables.<locals>.initialize_variables at 0x7ffa2b50dc80> could not be transformed and will be executed as-is. Please report this to the AutoGraph team. When filing the bug, set the verbosity to 10 (on Linux, `export AUTOGRAPH_VERBOSITY=10`) and attach the full output. Cause: module 'gast' has no attribute 'Num'\n",
      "WARNING: Entity <function Function._initialize_uninitialized_variables.<locals>.initialize_variables at 0x7ffa2b50dc80> could not be transformed and will be executed as-is. Please report this to the AutoGraph team. When filing the bug, set the verbosity to 10 (on Linux, `export AUTOGRAPH_VERBOSITY=10`) and attach the full output. Cause: module 'gast' has no attribute 'Num'\n",
      "33/33 [==============================] - 1s 29ms/sample - loss: 2.3568 - accuracy: 0.1515\n",
      "Epoch 2/10\n",
      "33/33 [==============================] - 0s 2ms/sample - loss: 1.6422 - accuracy: 0.4545\n",
      "Epoch 3/10\n",
      "33/33 [==============================] - 0s 2ms/sample - loss: 1.5432 - accuracy: 0.3333\n",
      "Epoch 4/10\n",
      "33/33 [==============================] - 0s 2ms/sample - loss: 1.0653 - accuracy: 0.4848\n",
      "Epoch 5/10\n",
      "33/33 [==============================] - 0s 2ms/sample - loss: 1.4966 - accuracy: 0.4545\n",
      "Epoch 6/10\n",
      "33/33 [==============================] - 0s 2ms/sample - loss: 1.2451 - accuracy: 0.5455\n",
      "Epoch 7/10\n",
      "33/33 [==============================] - 0s 2ms/sample - loss: 0.7399 - accuracy: 0.7576\n",
      "Epoch 8/10\n",
      "33/33 [==============================] - 0s 3ms/sample - loss: 0.6733 - accuracy: 0.8485\n",
      "Epoch 9/10\n",
      "33/33 [==============================] - 0s 3ms/sample - loss: 0.8445 - accuracy: 0.7576\n",
      "Epoch 10/10\n",
      "33/33 [==============================] - 0s 2ms/sample - loss: 0.7408 - accuracy: 0.7273\n",
      "34/1 [============================================================================================================================================================================================================================================================================================================================================================================================================================================================================================================================================================================================================================================================================================================================================================================================================================================================================================================================================================================================================================================================] - 0s 5ms/sample - loss: 1.2864 - accuracy: 0.5000\n",
      "\n",
      "LSTM Training-------------------------------------------- 0.5 \n",
      "\n",
      "Train on 33 samples\n",
      "Epoch 1/10\n",
      "WARNING:tensorflow:Entity <function Function._initialize_uninitialized_variables.<locals>.initialize_variables at 0x7ffa2782a9d8> could not be transformed and will be executed as-is. Please report this to the AutoGraph team. When filing the bug, set the verbosity to 10 (on Linux, `export AUTOGRAPH_VERBOSITY=10`) and attach the full output. Cause: module 'gast' has no attribute 'Num'\n",
      "WARNING: Entity <function Function._initialize_uninitialized_variables.<locals>.initialize_variables at 0x7ffa2782a9d8> could not be transformed and will be executed as-is. Please report this to the AutoGraph team. When filing the bug, set the verbosity to 10 (on Linux, `export AUTOGRAPH_VERBOSITY=10`) and attach the full output. Cause: module 'gast' has no attribute 'Num'\n",
      "32/33 [============================>.] - ETA: 0s - loss: 2.2511 - accuracy: 0.1562WARNING:tensorflow:Method (on_train_batch_end) is slow compared to the batch update (0.387402). Check your callbacks.\n",
      "33/33 [==============================] - 5s 137ms/sample - loss: 2.2637 - accuracy: 0.1515\n",
      "Epoch 2/10\n",
      "33/33 [==============================] - 1s 19ms/sample - loss: 1.8486 - accuracy: 0.1515\n",
      "Epoch 3/10\n",
      "33/33 [==============================] - 1s 18ms/sample - loss: 1.6884 - accuracy: 0.3939\n",
      "Epoch 4/10\n",
      "33/33 [==============================] - 1s 18ms/sample - loss: 1.5731 - accuracy: 0.4848\n",
      "Epoch 5/10\n",
      "33/33 [==============================] - 1s 18ms/sample - loss: 1.5032 - accuracy: 0.5455\n",
      "Epoch 6/10\n",
      "33/33 [==============================] - 1s 18ms/sample - loss: 1.4344 - accuracy: 0.5455\n",
      "Epoch 7/10\n"
     ]
    },
    {
     "name": "stdout",
     "output_type": "stream",
     "text": [
      "33/33 [==============================] - 1s 19ms/sample - loss: 1.3922 - accuracy: 0.5152\n",
      "Epoch 8/10\n",
      "33/33 [==============================] - 1s 18ms/sample - loss: 1.3403 - accuracy: 0.5455\n",
      "Epoch 9/10\n",
      "33/33 [==============================] - 1s 18ms/sample - loss: 1.2932 - accuracy: 0.5455\n",
      "Epoch 10/10\n",
      "33/33 [==============================] - 1s 19ms/sample - loss: 1.2792 - accuracy: 0.5152\n",
      "34/1 [============================================================================================================================================================================================================================================================================================================================================================================================================================================================================================================================================================================================================================================================================================================================================================================================================================================================================================================================================================================================================================================================] - 1s 27ms/sample - loss: 1.6893 - accuracy: 0.3235\n",
      "\n",
      "-------------------------------------------------------------------------------------------\n",
      "-------------------------------------------------------------------------------------------\n",
      "-------------------------------------------------------------------------------------------\n",
      "\n",
      "\n",
      "\n",
      "\n",
      "Training on: 0.6 \n",
      "\n",
      "CNN Training-------------------------------------------- 0.6 \n",
      "\n",
      "Train on 40 samples\n",
      "Epoch 1/10\n",
      "WARNING:tensorflow:Entity <function Function._initialize_uninitialized_variables.<locals>.initialize_variables at 0x7ffa27bfc6a8> could not be transformed and will be executed as-is. Please report this to the AutoGraph team. When filing the bug, set the verbosity to 10 (on Linux, `export AUTOGRAPH_VERBOSITY=10`) and attach the full output. Cause: module 'gast' has no attribute 'Num'\n",
      "WARNING: Entity <function Function._initialize_uninitialized_variables.<locals>.initialize_variables at 0x7ffa27bfc6a8> could not be transformed and will be executed as-is. Please report this to the AutoGraph team. When filing the bug, set the verbosity to 10 (on Linux, `export AUTOGRAPH_VERBOSITY=10`) and attach the full output. Cause: module 'gast' has no attribute 'Num'\n",
      "40/40 [==============================] - 1s 18ms/sample - loss: 1.7461 - accuracy: 0.2500\n",
      "Epoch 2/10\n",
      "40/40 [==============================] - 0s 2ms/sample - loss: 1.0834 - accuracy: 0.6000\n",
      "Epoch 3/10\n",
      "40/40 [==============================] - 0s 2ms/sample - loss: 0.9481 - accuracy: 0.6500\n",
      "Epoch 4/10\n",
      "40/40 [==============================] - 0s 2ms/sample - loss: 0.6352 - accuracy: 0.7750\n",
      "Epoch 5/10\n",
      "40/40 [==============================] - 0s 2ms/sample - loss: 0.4590 - accuracy: 0.8000\n",
      "Epoch 6/10\n",
      "40/40 [==============================] - 0s 2ms/sample - loss: 0.2462 - accuracy: 0.9500\n",
      "Epoch 7/10\n",
      "40/40 [==============================] - 0s 2ms/sample - loss: 0.1289 - accuracy: 1.0000\n",
      "Epoch 8/10\n",
      "40/40 [==============================] - 0s 3ms/sample - loss: 0.0841 - accuracy: 1.0000\n",
      "Epoch 9/10\n",
      "40/40 [==============================] - 0s 2ms/sample - loss: 0.0709 - accuracy: 1.0000\n",
      "Epoch 10/10\n",
      "40/40 [==============================] - 0s 2ms/sample - loss: 0.0463 - accuracy: 1.0000\n",
      "27/1 [==========================================================================================================================================================================================================================================================================================================================================================================================================================================================================================================================================================================================================================================================================================================================================================================================================================================] - 0s 6ms/sample - loss: 1.1858 - accuracy: 0.4815\n",
      "\n",
      "LSTM Training-------------------------------------------- 0.6 \n",
      "\n",
      "Train on 40 samples\n",
      "Epoch 1/10\n",
      "WARNING:tensorflow:Entity <function Function._initialize_uninitialized_variables.<locals>.initialize_variables at 0x7ffa94203268> could not be transformed and will be executed as-is. Please report this to the AutoGraph team. When filing the bug, set the verbosity to 10 (on Linux, `export AUTOGRAPH_VERBOSITY=10`) and attach the full output. Cause: module 'gast' has no attribute 'Num'\n",
      "WARNING: Entity <function Function._initialize_uninitialized_variables.<locals>.initialize_variables at 0x7ffa94203268> could not be transformed and will be executed as-is. Please report this to the AutoGraph team. When filing the bug, set the verbosity to 10 (on Linux, `export AUTOGRAPH_VERBOSITY=10`) and attach the full output. Cause: module 'gast' has no attribute 'Num'\n",
      "32/40 [=======================>......] - ETA: 1s - loss: 1.9324 - accuracy: 0.1875WARNING:tensorflow:Method (on_train_batch_end) is slow compared to the batch update (0.417301). Check your callbacks.\n",
      "40/40 [==============================] - 5s 133ms/sample - loss: 1.8924 - accuracy: 0.2000\n",
      "Epoch 2/10\n",
      "40/40 [==============================] - 1s 21ms/sample - loss: 1.5154 - accuracy: 0.5000\n",
      "Epoch 3/10\n",
      "40/40 [==============================] - 1s 18ms/sample - loss: 1.3228 - accuracy: 0.7500\n",
      "Epoch 4/10\n",
      "40/40 [==============================] - 1s 19ms/sample - loss: 1.1973 - accuracy: 0.7500\n",
      "Epoch 5/10\n",
      "40/40 [==============================] - 1s 18ms/sample - loss: 1.0965 - accuracy: 0.7750\n",
      "Epoch 6/10\n",
      "40/40 [==============================] - 1s 18ms/sample - loss: 1.0195 - accuracy: 0.7750\n",
      "Epoch 7/10\n",
      "40/40 [==============================] - 1s 18ms/sample - loss: 0.9587 - accuracy: 0.7750\n",
      "Epoch 8/10\n",
      "40/40 [==============================] - 1s 17ms/sample - loss: 0.9145 - accuracy: 0.8250\n",
      "Epoch 9/10\n",
      "40/40 [==============================] - 1s 18ms/sample - loss: 0.8694 - accuracy: 0.8250\n",
      "Epoch 10/10\n",
      "40/40 [==============================] - 1s 17ms/sample - loss: 0.8306 - accuracy: 0.8250\n",
      "27/1 [==========================================================================================================================================================================================================================================================================================================================================================================================================================================================================================================================================================================================================================================================================================================================================================================================================================================] - 1s 30ms/sample - loss: 1.2269 - accuracy: 0.4815\n",
      "\n",
      "-------------------------------------------------------------------------------------------\n",
      "-------------------------------------------------------------------------------------------\n",
      "-------------------------------------------------------------------------------------------\n",
      "\n",
      "\n",
      "\n",
      "\n",
      "Training on: 0.7 \n",
      "\n",
      "CNN Training-------------------------------------------- 0.7 \n",
      "\n",
      "Train on 46 samples\n",
      "Epoch 1/10\n",
      "WARNING:tensorflow:Entity <function Function._initialize_uninitialized_variables.<locals>.initialize_variables at 0x7ffa2782abf8> could not be transformed and will be executed as-is. Please report this to the AutoGraph team. When filing the bug, set the verbosity to 10 (on Linux, `export AUTOGRAPH_VERBOSITY=10`) and attach the full output. Cause: module 'gast' has no attribute 'Num'\n"
     ]
    },
    {
     "name": "stdout",
     "output_type": "stream",
     "text": [
      "WARNING: Entity <function Function._initialize_uninitialized_variables.<locals>.initialize_variables at 0x7ffa2782abf8> could not be transformed and will be executed as-is. Please report this to the AutoGraph team. When filing the bug, set the verbosity to 10 (on Linux, `export AUTOGRAPH_VERBOSITY=10`) and attach the full output. Cause: module 'gast' has no attribute 'Num'\n",
      "46/46 [==============================] - 1s 16ms/sample - loss: 2.3568 - accuracy: 0.1957\n",
      "Epoch 2/10\n",
      "46/46 [==============================] - 0s 2ms/sample - loss: 1.5257 - accuracy: 0.3261\n",
      "Epoch 3/10\n",
      "46/46 [==============================] - 0s 2ms/sample - loss: 1.0648 - accuracy: 0.7391\n",
      "Epoch 4/10\n",
      "46/46 [==============================] - 0s 2ms/sample - loss: 0.8160 - accuracy: 0.7174\n",
      "Epoch 5/10\n",
      "46/46 [==============================] - 0s 2ms/sample - loss: 0.5729 - accuracy: 0.8261\n",
      "Epoch 6/10\n",
      "46/46 [==============================] - 0s 2ms/sample - loss: 0.3975 - accuracy: 0.9348\n",
      "Epoch 7/10\n",
      "46/46 [==============================] - 0s 2ms/sample - loss: 0.2911 - accuracy: 0.9783\n",
      "Epoch 8/10\n",
      "46/46 [==============================] - 0s 3ms/sample - loss: 0.2259 - accuracy: 1.0000\n",
      "Epoch 9/10\n",
      "46/46 [==============================] - 0s 2ms/sample - loss: 0.1647 - accuracy: 1.0000\n",
      "Epoch 10/10\n",
      "46/46 [==============================] - 0s 2ms/sample - loss: 0.1045 - accuracy: 1.0000\n",
      "21/1 [======================================================================================================================================================================================================================================================================================================================================================================================================================================================================================================================================================================================================================================================] - 1s 24ms/sample - loss: 1.1533 - accuracy: 0.5714\n",
      "\n",
      "LSTM Training-------------------------------------------- 0.7 \n",
      "\n",
      "Train on 46 samples\n",
      "Epoch 1/10\n",
      "WARNING:tensorflow:Entity <function Function._initialize_uninitialized_variables.<locals>.initialize_variables at 0x7ffa245d52f0> could not be transformed and will be executed as-is. Please report this to the AutoGraph team. When filing the bug, set the verbosity to 10 (on Linux, `export AUTOGRAPH_VERBOSITY=10`) and attach the full output. Cause: module 'gast' has no attribute 'Num'\n",
      "WARNING: Entity <function Function._initialize_uninitialized_variables.<locals>.initialize_variables at 0x7ffa245d52f0> could not be transformed and will be executed as-is. Please report this to the AutoGraph team. When filing the bug, set the verbosity to 10 (on Linux, `export AUTOGRAPH_VERBOSITY=10`) and attach the full output. Cause: module 'gast' has no attribute 'Num'\n",
      "32/46 [===================>..........] - ETA: 1s - loss: 1.8245 - accuracy: 0.1875WARNING:tensorflow:Method (on_train_batch_end) is slow compared to the batch update (0.393051). Check your callbacks.\n",
      "46/46 [==============================] - 5s 101ms/sample - loss: 1.7307 - accuracy: 0.3043\n",
      "Epoch 2/10\n",
      "46/46 [==============================] - 1s 18ms/sample - loss: 1.5038 - accuracy: 0.4565\n",
      "Epoch 3/10\n",
      "46/46 [==============================] - 1s 20ms/sample - loss: 1.3558 - accuracy: 0.5435\n",
      "Epoch 4/10\n",
      "46/46 [==============================] - 1s 17ms/sample - loss: 1.2320 - accuracy: 0.5870\n",
      "Epoch 5/10\n",
      "46/46 [==============================] - 1s 17ms/sample - loss: 1.1356 - accuracy: 0.6739\n",
      "Epoch 6/10\n",
      "46/46 [==============================] - 1s 21ms/sample - loss: 1.0671 - accuracy: 0.6739\n",
      "Epoch 7/10\n",
      "46/46 [==============================] - 1s 18ms/sample - loss: 1.0118 - accuracy: 0.6957\n",
      "Epoch 8/10\n",
      "46/46 [==============================] - 1s 24ms/sample - loss: 0.9516 - accuracy: 0.7391\n",
      "Epoch 9/10\n",
      "46/46 [==============================] - 1s 24ms/sample - loss: 0.9097 - accuracy: 0.7609\n",
      "Epoch 10/10\n",
      "46/46 [==============================] - 1s 23ms/sample - loss: 0.8614 - accuracy: 0.7826\n",
      "21/1 [======================================================================================================================================================================================================================================================================================================================================================================================================================================================================================================================================================================================================================================================] - 1s 41ms/sample - loss: 1.0586 - accuracy: 0.6190\n",
      "\n",
      "-------------------------------------------------------------------------------------------\n",
      "-------------------------------------------------------------------------------------------\n",
      "-------------------------------------------------------------------------------------------\n",
      "\n",
      "\n",
      "\n",
      "\n",
      "Training on: 0.8 \n",
      "\n",
      "CNN Training-------------------------------------------- 0.8 \n",
      "\n",
      "Train on 53 samples\n",
      "Epoch 1/10\n",
      "WARNING:tensorflow:Entity <function Function._initialize_uninitialized_variables.<locals>.initialize_variables at 0x7ffa25f9db70> could not be transformed and will be executed as-is. Please report this to the AutoGraph team. When filing the bug, set the verbosity to 10 (on Linux, `export AUTOGRAPH_VERBOSITY=10`) and attach the full output. Cause: module 'gast' has no attribute 'Num'\n",
      "WARNING: Entity <function Function._initialize_uninitialized_variables.<locals>.initialize_variables at 0x7ffa25f9db70> could not be transformed and will be executed as-is. Please report this to the AutoGraph team. When filing the bug, set the verbosity to 10 (on Linux, `export AUTOGRAPH_VERBOSITY=10`) and attach the full output. Cause: module 'gast' has no attribute 'Num'\n",
      "53/53 [==============================] - 1s 26ms/sample - loss: 2.3458 - accuracy: 0.2642\n",
      "Epoch 2/10\n",
      "53/53 [==============================] - 0s 3ms/sample - loss: 1.2919 - accuracy: 0.4151\n",
      "Epoch 3/10\n",
      "53/53 [==============================] - 0s 4ms/sample - loss: 1.2373 - accuracy: 0.5094\n",
      "Epoch 4/10\n",
      "53/53 [==============================] - 0s 3ms/sample - loss: 0.7723 - accuracy: 0.9245\n",
      "Epoch 5/10\n",
      "53/53 [==============================] - 0s 4ms/sample - loss: 0.5886 - accuracy: 0.8302\n",
      "Epoch 6/10\n",
      "53/53 [==============================] - 0s 4ms/sample - loss: 0.4704 - accuracy: 0.8679\n",
      "Epoch 7/10\n",
      "53/53 [==============================] - 0s 3ms/sample - loss: 0.3298 - accuracy: 0.9245\n",
      "Epoch 8/10\n",
      "53/53 [==============================] - 0s 3ms/sample - loss: 0.2531 - accuracy: 0.9811\n",
      "Epoch 9/10\n",
      "53/53 [==============================] - 0s 3ms/sample - loss: 0.1600 - accuracy: 0.9811\n",
      "Epoch 10/10\n",
      "53/53 [==============================] - 0s 3ms/sample - loss: 0.0913 - accuracy: 1.0000\n",
      "14/1 [====================================================================================================================================================================================================================================================================================================================================================================================================================================] - 0s 10ms/sample - loss: 0.8801 - accuracy: 0.6429\n",
      "\n",
      "LSTM Training-------------------------------------------- 0.8 \n",
      "\n",
      "Train on 53 samples\n",
      "Epoch 1/10\n",
      "WARNING:tensorflow:Entity <function Function._initialize_uninitialized_variables.<locals>.initialize_variables at 0x7ffa24424c80> could not be transformed and will be executed as-is. Please report this to the AutoGraph team. When filing the bug, set the verbosity to 10 (on Linux, `export AUTOGRAPH_VERBOSITY=10`) and attach the full output. Cause: module 'gast' has no attribute 'Num'\n",
      "WARNING: Entity <function Function._initialize_uninitialized_variables.<locals>.initialize_variables at 0x7ffa24424c80> could not be transformed and will be executed as-is. Please report this to the AutoGraph team. When filing the bug, set the verbosity to 10 (on Linux, `export AUTOGRAPH_VERBOSITY=10`) and attach the full output. Cause: module 'gast' has no attribute 'Num'\n"
     ]
    },
    {
     "name": "stdout",
     "output_type": "stream",
     "text": [
      "53/53 [==============================] - 4s 84ms/sample - loss: 1.7731 - accuracy: 0.2075\n",
      "Epoch 2/10\n",
      "53/53 [==============================] - 1s 17ms/sample - loss: 1.4763 - accuracy: 0.5660\n",
      "Epoch 3/10\n",
      "53/53 [==============================] - 1s 16ms/sample - loss: 1.3103 - accuracy: 0.6415\n",
      "Epoch 4/10\n",
      "53/53 [==============================] - 1s 17ms/sample - loss: 1.1883 - accuracy: 0.6415\n",
      "Epoch 5/10\n",
      "53/53 [==============================] - 1s 17ms/sample - loss: 1.0858 - accuracy: 0.6415\n",
      "Epoch 6/10\n",
      "53/53 [==============================] - 1s 17ms/sample - loss: 1.0086 - accuracy: 0.7170\n",
      "Epoch 7/10\n",
      "53/53 [==============================] - 1s 16ms/sample - loss: 0.9472 - accuracy: 0.7925\n",
      "Epoch 8/10\n",
      "53/53 [==============================] - 1s 17ms/sample - loss: 0.9016 - accuracy: 0.8302\n",
      "Epoch 9/10\n",
      "53/53 [==============================] - 1s 16ms/sample - loss: 0.8534 - accuracy: 0.8491\n",
      "Epoch 10/10\n",
      "53/53 [==============================] - 1s 16ms/sample - loss: 0.8108 - accuracy: 0.8868\n",
      "14/1 [====================================================================================================================================================================================================================================================================================================================================================================================================================================] - 1s 54ms/sample - loss: 0.9116 - accuracy: 0.7143\n",
      "\n",
      "-------------------------------------------------------------------------------------------\n",
      "-------------------------------------------------------------------------------------------\n",
      "-------------------------------------------------------------------------------------------\n",
      "\n",
      "\n",
      "\n",
      "\n",
      "CPU times: user 3min 38s, sys: 3.83 s, total: 3min 42s\n",
      "Wall time: 1min 53s\n"
     ]
    }
   ],
   "source": [
    "%%time\n",
    "\n",
    "acc_rfc_list = []\n",
    "acc_cnn_list = []\n",
    "acc_lstm_list = []\n",
    "acc = {}\n",
    "\n",
    "for n in [round(_ * 0.1, 1) for _ in range(2, 9)]:\n",
    "    print(\"Training on:\",n,\"\\n\")\n",
    "#     splitting data into training and testing set\n",
    "    x_train, x_test, y_train, y_test = train_test_split(pad_vectors, data['marks'], test_size=round(1-n,1), random_state=22)\n",
    "    \n",
    "#     calling rfc for training\n",
    "    rfc_acc = train_rfc(x_train, x_test, y_train, y_test, n)\n",
    "    acc_rfc_list.append(rfc_acc)\n",
    "    acc[n] = [rfc_acc]\n",
    "    \n",
    "#     converting input to tensors for input into DL models\n",
    "    x_train_dl = tf.convert_to_tensor(x_train, np.float32)\n",
    "    y_train_dl = tf.convert_to_tensor(y_train, np.float32)\n",
    "\n",
    "    x_test_dl = tf.convert_to_tensor(x_test, np.float32)\n",
    "    y_test_dl = tf.convert_to_tensor(y_test, np.float32)\n",
    "    \n",
    "    print(\"CNN Training--------------------------------------------\",n,\"\\n\")    \n",
    "#     calling cnn for training\n",
    "    cnn_acc = train_cnn(x_train_dl, x_test_dl, y_train_dl, y_test_dl, n)\n",
    "    acc_cnn_list.append(cnn_acc)\n",
    "    acc[n].append(cnn_acc)\n",
    "    \n",
    "    print(\"\\nLSTM Training--------------------------------------------\",n,\"\\n\")\n",
    "#     calling lstm for training\n",
    "    lstm_acc = train_lstm(x_train_dl, x_test_dl, y_train_dl, y_test_dl, n)\n",
    "    acc_lstm_list.append(lstm_acc)\n",
    "    acc[n].append(lstm_acc)\n",
    "    \n",
    "    print(\"\\n-------------------------------------------------------------------------------------------\")\n",
    "    print(\"-------------------------------------------------------------------------------------------\")\n",
    "    print(\"-------------------------------------------------------------------------------------------\\n\\n\\n\\n\")"
   ]
  },
  {
   "cell_type": "code",
   "execution_count": 11,
   "metadata": {},
   "outputs": [
    {
     "name": "stdout",
     "output_type": "stream",
     "text": [
      "RFC: [35.18518518518518, 44.680851063829785, 39.02439024390244, 52.94117647058824, 51.85185185185185, 57.14285714285714, 42.857142857142854]\n",
      "CNN: [38.88888955116272, 48.93617033958435, 48.78048896789551, 50.0, 48.148149251937866, 57.14285969734192, 64.28571343421936]\n",
      "LSTM: [44.44444477558136, 57.446807622909546, 51.21951103210449, 32.35294222831726, 48.148149251937866, 61.90476417541504, 71.42857313156128]\n"
     ]
    }
   ],
   "source": [
    "print(\"RFC:\",acc_rfc_list)\n",
    "print(\"CNN:\",acc_cnn_list)\n",
    "print(\"LSTM:\",acc_lstm_list)"
   ]
  },
  {
   "cell_type": "code",
   "execution_count": 12,
   "metadata": {},
   "outputs": [
    {
     "data": {
      "text/plain": [
       "{0.2: [35.18518518518518, 38.88888955116272, 44.44444477558136],\n",
       " 0.3: [44.680851063829785, 48.93617033958435, 57.446807622909546],\n",
       " 0.4: [39.02439024390244, 48.78048896789551, 51.21951103210449],\n",
       " 0.5: [52.94117647058824, 50.0, 32.35294222831726],\n",
       " 0.6: [51.85185185185185, 48.148149251937866, 48.148149251937866],\n",
       " 0.7: [57.14285714285714, 57.14285969734192, 61.90476417541504],\n",
       " 0.8: [42.857142857142854, 64.28571343421936, 71.42857313156128]}"
      ]
     },
     "execution_count": 12,
     "metadata": {},
     "output_type": "execute_result"
    }
   ],
   "source": [
    "acc"
   ]
  }
 ],
 "metadata": {
  "kernelspec": {
   "display_name": "Python 3",
   "language": "python",
   "name": "python3"
  },
  "language_info": {
   "codemirror_mode": {
    "name": "ipython",
    "version": 3
   },
   "file_extension": ".py",
   "mimetype": "text/x-python",
   "name": "python",
   "nbconvert_exporter": "python",
   "pygments_lexer": "ipython3",
   "version": "3.6.9"
  }
 },
 "nbformat": 4,
 "nbformat_minor": 4
}
